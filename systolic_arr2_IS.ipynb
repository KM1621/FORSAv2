{
 "cells": [
  {
   "cell_type": "markdown",
   "id": "de91db4f",
   "metadata": {},
   "source": [
    "# This notebook generates binary representation of input matrices in a form suitable for input stationary systolic array where the weights are transformed to trapezoid for data orchestration "
   ]
  },
  {
   "cell_type": "code",
   "execution_count": 1,
   "id": "c55d64f8",
   "metadata": {
    "id": "c55d64f8"
   },
   "outputs": [
    {
     "name": "stdout",
     "output_type": "stream",
     "text": [
      "[[9063 7471 4559 7712]\n",
      " [2955 9800 8309 9249]\n",
      " [6839 4952 6478 7090]\n",
      " [9707 4353 7527 9366]\n",
      " [6946 3201 8858 5787]\n",
      " [6520 9188 9104 9140]\n",
      " [6197 7532 7458  534]\n",
      " [4794 7802 1776 8818]\n",
      " [9373 5897 1239 6988]\n",
      " [6674 1451 6888 3152]\n",
      " [1284 4897 8059 2308]\n",
      " [6766 7939 5712 4533]\n",
      " [4628 4491 8503 3514]\n",
      " [2171 6136 5271 9485]\n",
      " [8148 5979 9088 2129]\n",
      " [7414 9718 6499 6738]]\n",
      "[[9922 8647 1723 ... 9062 7535 5023]\n",
      " [5948 7990 3296 ... 2295 9615 1482]\n",
      " [ 411 3119 5010 ... 5048 6483 7547]\n",
      " [6636 6463 4983 ... 2101 8216 1160]]\n",
      "[[187411175 202123228 101509451 ... 138491595 233041159  99948164]\n",
      " [152401273 189545943 125108122 ... 110645191 246349956 102803428]\n",
      " [147022752 164730865  95889639 ... 120936892 199393659  98805027]\n",
      " ...\n",
      " [123146431 145541081  97636354 ...  80291715 187456778  70781322]\n",
      " [134270760 160333165  89885475 ... 137908234 195292633 120845058]\n",
      " [178748829 205573753 110940294 ... 136451968 246795485 108506631]]\n"
     ]
    }
   ],
   "source": [
    "import numpy as np\n",
    "mat_H_A = 16 # A is west\n",
    "mat_W_A = 4\n",
    "mat_H_B = 4 # B is north\n",
    "mat_W_B = 1024\n",
    "# A = np.zeros([mat_H, mat_W], dtype=int)\n",
    "# B = np.zeros([mat_W, mat_H], dtype=int)\n",
    "# for i in range(mat_H):\n",
    "#     for j in range(mat_W):\n",
    "#         A[i][j]=i*mat_W+j\n",
    "# for i in range(mat_W):\n",
    "#     for j in range(mat_H):\n",
    "#         B[i][j]=i*mat_H+j\n",
    "A = np.random.randint(low=0, high=10000, size=(mat_H_A, mat_W_A), dtype=np.int64)\n",
    "B = np.random.randint(low=0, high=10000, size=(mat_H_B, mat_W_B), dtype=np.int64)\n",
    "print(A)\n",
    "print(B)\n",
    "# B_transposed = B.transpose()\n",
    "print(np.dot(A,B))\n",
    "B_original = B.copy()\n",
    "A_original = A.copy()"
   ]
  },
  {
   "cell_type": "code",
   "execution_count": 2,
   "id": "99c81e16",
   "metadata": {},
   "outputs": [
    {
     "name": "stdout",
     "output_type": "stream",
     "text": [
      "[[9922 5948  411 6636]\n",
      " [8647 7990 3119 6463]\n",
      " [1723 3296 5010 4983]\n",
      " ...\n",
      " [9062 2295 5048 2101]\n",
      " [7535 9615 6483 8216]\n",
      " [5023 1482 7547 1160]]\n",
      "[[9922 5948  411 6636]\n",
      " [5874 3385 5114 8684]\n",
      " [5844 1596 8939 9180]\n",
      " ...\n",
      " [ 659 9446  804 9810]\n",
      " [ 461 8857 4238 8927]\n",
      " [8511 6543 1334 8076]]\n"
     ]
    }
   ],
   "source": [
    "\n",
    "# from fxpmath import Fxp\n",
    "# word_size  = 32\n",
    "# frac_size = 0\n",
    "# bin_ex = Fxp(61, True, word_size, frac_size).bin()\n",
    "# bin_ex\n",
    "\n",
    "\n",
    "from fxpmath import Fxp\n",
    "word_size  = 32\n",
    "frac_size = 0\n",
    "#Sorting full matrix\n",
    "# Accepts 2D weight matrix (NORTH) and reorders rows to get minmum switching possible\n",
    "# Returns new matrix with low switching between rows along with a vector of new indices\n",
    "def sortFullMatrix_BNorth(mat1):\n",
    "    height = np.size(mat1, 0)\n",
    "    width = np.size(mat1, 1)\n",
    "#     switchingact = np.zeros(height)\n",
    "    original_index=[]\n",
    "    original_index = np.asanyarray([i for i in range(height)])\n",
    "    for row in range(height - 2): # Iterate until total rows - 2 or 3\n",
    "#         print('working on row no :', row)\n",
    "        sw_vector = np.zeros(height)\n",
    "        for ii in range(row+1, height): # Iterate until total rows - 2 or 3\n",
    "#             print('comparing switching between row :', row, 'and row', ii)\n",
    "            temp0=0\n",
    "            for col in range(width):\n",
    "                row0 = Fxp(mat1[row][col], True, word_size, frac_size)\n",
    "                row1 = Fxp(mat1[ii ][col], True, word_size, frac_size)\n",
    "                temp0 = temp0 + (row0 ^ row1).bin().count('1')\n",
    "            sw_vector[ii] =  temp0\n",
    "        if(row==0):\n",
    "            switchingact = sw_vector\n",
    "#         print('Switching vector', sw_vector)\n",
    "#         new_order = np.argsort(sw_vector)\n",
    "        new_row = np.argmin(sw_vector[row + 1:]) + row + 1  # Adding 1 to cancel the offset from removing (row + 1)th index\n",
    "#         print('matrix before sorting')\n",
    "#         print(row+1)\n",
    "#         print(new_row)\n",
    "        # switch row i+1 and row i+2\n",
    "\n",
    "        mat1[[row+1, new_row]] = mat1[[new_row, row+1]]\n",
    "        original_index[[row+1, new_row]] = original_index[[new_row, row+1]]\n",
    "#         print('original_index after being sorted:', original_index)\n",
    "#         print('matrix after sorting')\n",
    "#         print(mat1)\n",
    "    return mat1, original_index, switchingact # Returning original_index to rearrange activation maps\n",
    "B_trans_sorted, original_index, _ = sortFullMatrix_BNorth(B.transpose())\n",
    "print(B_original.transpose())\n",
    "print(B_trans_sorted)\n",
    "# A_rearranged = A[original_index, :] # No need to rearrange A as the sorting of B is done along its filter dimension\n",
    "# print(original_index)\n",
    "# print(A_rearranged)\n"
   ]
  },
  {
   "cell_type": "code",
   "execution_count": 3,
   "id": "ff10a61f",
   "metadata": {},
   "outputs": [
    {
     "name": "stdout",
     "output_type": "stream",
     "text": [
      "mat before sorting [20. 32. 29. ... 27. 29. 18.]\n",
      "27736.0\n",
      "mat after sorting [17. 16. 16. ... 25. 28. 30.]\n",
      "16706.0\n"
     ]
    }
   ],
   "source": [
    "\n",
    "\n",
    "def calc_sw_act(mat1):\n",
    "    height = np.size(mat1, 0)\n",
    "    width = np.size(mat1, 1)\n",
    "    sw_vector = np.zeros(height-1)\n",
    "    for row in range(height - 1): # Iterate until total rows - 1\n",
    "            temp0=0\n",
    "            for col in range(width):\n",
    "                row0 = Fxp(mat1[row][col], True, word_size, frac_size)\n",
    "                row1 = Fxp(mat1[row + 1 ][col], True, word_size, frac_size)\n",
    "                temp0 = temp0 + (row0 ^ row1).bin().count('1')\n",
    "            sw_vector[row] =  temp0\n",
    "    return sw_vector # Returning original_index to rearrange activation maps\n",
    "B_trans = B_original.transpose()\n",
    "sw_vector = calc_sw_act(B_trans)  \n",
    "print('mat before sorting', sw_vector)\n",
    "print(np.sum(sw_vector))\n",
    "sw_vector = calc_sw_act(B_trans_sorted) #As B_trans_sorted is already transposed\n",
    "print('mat after sorting', sw_vector)\n",
    "print(np.sum(sw_vector))\n",
    "\n",
    "##### No need to rearrange A as the sorting of B is done along its filter dimension\n",
    "# sw_vector = calc_sw_act(A_original)\n",
    "# print('mat before sorting', sw_vector)\n",
    "# print(np.sum(sw_vector))\n",
    "# sw_vector = calc_sw_act(A_rearranged)\n",
    "# print('mat after sorting', sw_vector)\n",
    "# print(np.sum(sw_vector))\n",
    "\n",
    "# Transforming matrices to trapezoid\n",
    "# For input stationary systolic array weight matrix is from west is not fed in trapezoid feed as the matrix from north\n",
    "# Wait for done signal until all weight matrix elements get saved in its corresponding cell\n",
    "# Start feeding matrix from north in trapezoid sequence\n"
   ]
  },
  {
   "cell_type": "code",
   "execution_count": 4,
   "id": "9419bec0",
   "metadata": {},
   "outputs": [
    {
     "name": "stdout",
     "output_type": "stream",
     "text": [
      "[[   0    0    0    0]\n",
      " [   0    0    0 1160]\n",
      " [   0    0 7547 8216]\n",
      " ...\n",
      " [1723 7990  411    0]\n",
      " [8647 5948    0    0]\n",
      " [9922    0    0    0]]\n",
      "[[   0    0    0    0]\n",
      " [   0    0    0 8076]\n",
      " [   0    0 1334 8927]\n",
      " ...\n",
      " [5844 3385  411    0]\n",
      " [5874 5948    0    0]\n",
      " [9922    0    0    0]]\n"
     ]
    }
   ],
   "source": [
    "\n",
    "# Transforming matrices to trapezoid\n",
    "B_trans_trap = np.zeros([mat_H_B+mat_W_B, mat_H_B], dtype=int)\n",
    "B_trans_sorted_trap = np.zeros([mat_H_B+mat_W_B, mat_H_B], dtype=int)\n",
    "###########################\n",
    "# Add zero column from right of a numpy array A (West)\n",
    "# zeros_column = np.zeros((mat_H_A, 1))\n",
    "# A_in0 = np.hstack((zeros_column, A))\n",
    "# print(A_in0)\n",
    "# A_rearranged_in0 = np.hstack((zeros_column, A_rearranged))\n",
    "# print(A_rearranged_in0)\n",
    "############################\n",
    "for i in range(mat_W_B): \n",
    "    for j in range(mat_H_B):\n",
    "        B_trans_trap[mat_H_B+mat_W_B-j-i-1][j]=B_trans[i][j]\n",
    "print(B_trans_trap)\n",
    "\n",
    "for i in range(mat_W_B):\n",
    "    for j in range(mat_H_B):\n",
    "        B_trans_sorted_trap[mat_H_B+mat_W_B-j-i-1][j]=B_trans_sorted[i][j]\n",
    "print(B_trans_sorted_trap)\n"
   ]
  },
  {
   "cell_type": "code",
   "execution_count": null,
   "id": "2d070289",
   "metadata": {},
   "outputs": [],
   "source": []
  },
  {
   "cell_type": "code",
   "execution_count": 5,
   "id": "143420ea",
   "metadata": {},
   "outputs": [],
   "source": [
    "\n",
    "# Transforming trapezoid to its hex representation and save it in text/mem file\n",
    "### No need to rearrange A as the sorting of B is done along its filter dimension\n",
    "######################################## Mat A (West in)\n",
    "with open('./mem_files_InputStationary/inp_west_'+str(mat_H_A)+'x'+str(mat_W_A)+'.mem', 'w') as f:\n",
    "    for j in range(0,mat_W_A):\n",
    "        for i in range(0,mat_H_A):\n",
    "            f.write('{0:x}'.format(int(A[i][mat_W_A-1-j])))\n",
    "            f.write('\\n')\n",
    "# with open('./mem_files_InputStationary/inp_west_rearranged_'+str(mat_H_A)+'x'+str(mat_W_A)+'.mem', 'w') as f:\n",
    "#     for j in range(0,mat_W_A+1):\n",
    "#         for i in range(0,mat_H_A):\n",
    "#             f.write('{0:x}'.format(int(A[i][mat_W_A-j])))\n",
    "#             f.write('\\n')\n",
    "########################################## Mat B (North in)\n",
    "with open('./mem_files_InputStationary/inp_north_'+str(mat_W_B)+'x'+str(mat_H_B)+'.mem', 'w') as f:\n",
    "    for i in range(0,mat_H_B+mat_W_B):\n",
    "        for j in range(0,mat_H_B):\n",
    "            f.write('{0:x}'.format(int(B_trans_trap[mat_H_B+mat_W_B-i-1][j])))\n",
    "            f.write('\\n')\n",
    "with open('./mem_files_InputStationary/inp_north_sorted_'+str(mat_W_B)+'x'+str(mat_H_B)+'.mem', 'w') as f:\n",
    "    for i in range(0,mat_H_B+mat_W_B):\n",
    "        for j in range(0,mat_H_B):\n",
    "            f.write('{0:x}'.format(int(B_trans_sorted_trap[mat_H_B+mat_W_B-i-1][j])))\n",
    "            f.write('\\n')\n",
    "\n"
   ]
  },
  {
   "cell_type": "code",
   "execution_count": 9,
   "id": "04e88052",
   "metadata": {},
   "outputs": [
    {
     "name": "stdout",
     "output_type": "stream",
     "text": [
      "[178748829 205573753 110940294 ... 136451968 246795485 108506631]\n"
     ]
    }
   ],
   "source": [
    "xx = np.dot(A_original,B_original)\n",
    "print(xx[15,:])"
   ]
  },
  {
   "cell_type": "code",
   "execution_count": 12,
   "id": "52981d20",
   "metadata": {},
   "outputs": [
    {
     "data": {
      "text/plain": [
       "array([178748829, 205573753, 110940294, ..., 136451968, 246795485,\n",
       "       108506631], dtype=int64)"
      ]
     },
     "execution_count": 12,
     "metadata": {},
     "output_type": "execute_result"
    }
   ],
   "source": [
    "xx[15,:]"
   ]
  },
  {
   "cell_type": "code",
   "execution_count": 16,
   "id": "c5b1f114",
   "metadata": {
    "scrolled": true
   },
   "outputs": [
    {
     "data": {
      "text/plain": [
       "False"
      ]
     },
     "execution_count": 16,
     "metadata": {},
     "output_type": "execute_result"
    }
   ],
   "source": [
    "x=177183061\n",
    "x in xx[15, :]"
   ]
  },
  {
   "cell_type": "code",
   "execution_count": null,
   "id": "fdb81b7f",
   "metadata": {},
   "outputs": [],
   "source": []
  }
 ],
 "metadata": {
  "colab": {
   "provenance": []
  },
  "kernelspec": {
   "display_name": "Python 3 (ipykernel)",
   "language": "python",
   "name": "python3"
  },
  "language_info": {
   "codemirror_mode": {
    "name": "ipython",
    "version": 3
   },
   "file_extension": ".py",
   "mimetype": "text/x-python",
   "name": "python",
   "nbconvert_exporter": "python",
   "pygments_lexer": "ipython3",
   "version": "3.10.4"
  }
 },
 "nbformat": 4,
 "nbformat_minor": 5
}
