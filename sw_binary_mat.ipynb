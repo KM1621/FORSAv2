{
 "cells": [
  {
   "cell_type": "code",
   "execution_count": 1,
   "metadata": {},
   "outputs": [],
   "source": [
    "from queue import Queue\n",
    "import numpy as np\n",
    "from fxpmath import Fxp\n",
    "from numpy import random\n",
    "from numpy import *"
   ]
  },
  {
   "cell_type": "code",
   "execution_count": 2,
   "metadata": {},
   "outputs": [],
   "source": [
    "def diff_letters(a,b):\n",
    "    return sum ( a[i] != b[i] for i in range(len(a)) )"
   ]
  },
  {
   "cell_type": "code",
   "execution_count": 22,
   "metadata": {
    "slideshow": {
     "slide_type": "-"
    }
   },
   "outputs": [],
   "source": [
    "def sortFullMatrixbinary(list_in): #Eg: 32x200 bits filter sorting\n",
    "    list_len = len(list_in)\n",
    "    print(list_len)\n",
    "    switchingact = np.zeros(list_len)\n",
    "    original_index=[]\n",
    "    original_index = np.asanyarray([i for i in range(list_len)])\n",
    "    sw_mat = []\n",
    "    for row in range(list_len - 1): # Iterate until total rows - 2 or 3\n",
    "#         print('starting with row :', row)\n",
    "        sw_vector = np.zeros(list_len)\n",
    "        switchingBefore = 200\n",
    "        sw_row = []\n",
    "        for ii in range(row+1, list_len): # Iterate until total rows - 2 or 3\n",
    "            sw_vector[ii] =  diff_letters(list_in[row], list_in[ii])  \n",
    "            sw_row.append(sw_vector[ii])\n",
    "#         print('Switching vector', sw_vector)\n",
    "#         new_order = np.argsort(sw_vector)\n",
    "        new_row = np.argmin(sw_vector[row + 1:]) + row + 1  # Adding 1 to cancel the offset from removing (row + 1)th index\n",
    "        sw_mat.append(sw_row)\n",
    "#         print('matrix before sorting')\n",
    "#         print(mat1)\n",
    "        # switch row i+1 and row i+2\n",
    "        \n",
    "#         list_in[[row+1, new_row]] = list_in[[new_row, row+1]]\n",
    "        list_in[row+1], list_in[new_row] = list_in[new_row], list_in[row+1]\n",
    "        original_index[[row+1, new_row]] = original_index[[new_row, row+1]]\n",
    "#         print('original_index after being sorted:', original_index)\n",
    "#         print('matrix after sorting')\n",
    "#         print(mat1)\n",
    "    return list_in, original_index, sw_vector, sw_mat # Returning original_index to rearrange activation maps++++"
   ]
  },
  {
   "cell_type": "code",
   "execution_count": 30,
   "metadata": {},
   "outputs": [],
   "source": [
    "def sortFullMatrixbinary2(list_in): #Eg: 32x200 bits filter sorting\n",
    "    list_len = len(list_in)\n",
    "#     print(list_len)\n",
    "    switchingact_original = []\n",
    "    switchingact_sorted = []\n",
    "    original_index = []\n",
    "    original_index = np.asanyarray([i for i in range(list_len)])\n",
    "    \n",
    "    for iteration in range(1, list_len): # Iterate 32 times\n",
    "        sw_vector = np.zeros(list_len)\n",
    "        for ii in range(list_len-2): # Iterate until total rows - 2 or 3\n",
    "            temp0 =  diff_letters(list_in[ii],list_in[ii+1])  \n",
    "            temp1 =  diff_letters(list_in[ii],list_in[ii+2])  \n",
    "            sw_vector[ii] = temp0\n",
    "            if iteration==1:\n",
    "                switchingact_original.append(temp0)\n",
    "            # Check if temp0 is greater than temp1, if so swap ii+1 with ii+2\n",
    "            if(temp0 > temp1):\n",
    "                list_in[ii+1], list_in[ii+2] = list_in[ii+2], list_in[ii+1]\n",
    "                original_index[[ii+1, ii+2]] = original_index[[ii+2, ii+1]]\n",
    "                sw_vector[ii] = temp1\n",
    "    return list_in, original_index, sw_vector, switchingact_original # Returning original_index to rearrange activation maps"
   ]
  },
  {
   "cell_type": "code",
   "execution_count": 39,
   "metadata": {},
   "outputs": [
    {
     "name": "stderr",
     "output_type": "stream",
     "text": [
      "C:\\Users\\admin\\AppData\\Local\\Temp\\ipykernel_15820\\560263640.py:2: DeprecationWarning: Calling np.sum(generator) is deprecated, and in the future will give a different result. Use np.sum(np.fromiter(generator)) or the python sum builtin instead.\n",
      "  return sum ( a[i] != b[i] for i in range(len(a)) )\n"
     ]
    },
    {
     "name": "stdout",
     "output_type": "stream",
     "text": [
      "[31.59731592397518, 25.618446232710266, 21.37472541271314, 9.240507282658537, 8.71243514866325, 7.5598852078421]\n"
     ]
    }
   ],
   "source": [
    "rows = [128, 64, 32, 16, 8, 4]\n",
    "cols = [4, 8, 16, 32, 64, 128]\n",
    "len_mat = np.size(rows)\n",
    "sw_average = []\n",
    "no_exp = 5\n",
    "def Average(lst): \n",
    "    return sum(lst) / len(lst) \n",
    " \n",
    "for i in range(len_mat):\n",
    "    sw = []\n",
    "    for exper in range(no_exp):\n",
    "        list_in = [[random.randint(0, 2) for _ in range(cols[i])] for _ in range(rows[i])]\n",
    "        list_out, original_index, sw_vector, switchingact_original = sortFullMatrixbinary2(list_in)\n",
    "        sw.append((np.sum(switchingact_original)-np.sum(sw_vector))*100/np.sum(switchingact_original))\n",
    "#     print(list_in)\n",
    "    sw_average.append(Average(sw))\n",
    "\n",
    "print(sw_average)\n",
    "# Create a 2D list filled with random 0s and 1s\n",
    "# list_in = [[random.randint(0, 2) for _ in range(columns)] for _ in range(rows)]\n",
    "# list_len = len(list_in)\n",
    "# list_out, original_index, sw_vector, switchingact_original = sortFullMatrixbinary2(list_in)\n",
    "# print('Percentage of reduction in switching',(np.sum(switchingact_original)-np.sum(sw_vector))*100/np.sum(switchingact_original))"
   ]
  },
  {
   "attachments": {
    "image.png": {
     "image/png": "[encoded data removed]"
    }
   },
   "cell_type": "markdown",
   "metadata": {},
   "source": [
    "The result above presents why switching reduction percentage and hence the power saving decreases for filters in deeper layers\n",
    "![image.png](attachment:image.png)"
   ]
  },
  {
   "cell_type": "code",
   "execution_count": 6,
   "metadata": {},
   "outputs": [
    {
     "name": "stdout",
     "output_type": "stream",
     "text": [
      "[[0, 1, 0, 1, 1, 0, 1, 0, 1, 1, 1, 0], [0, 0, 0, 1, 0, 1, 0, 1, 1, 1, 1, 0], [0, 1, 0, 1, 1, 0, 0, 1, 0, 1, 0, 1], [1, 1, 1, 0, 1, 0, 1, 0, 0, 0, 0, 1], [0, 1, 0, 0, 0, 0, 0, 1, 1, 1, 0, 1], [0, 1, 1, 1, 1, 1, 0, 1, 0, 0, 0, 0], [0, 1, 0, 0, 1, 1, 1, 0, 0, 0, 0, 1], [1, 0, 0, 1, 0, 1, 1, 0, 1, 1, 0, 1], [0, 1, 1, 0, 1, 1, 1, 1, 1, 0, 1, 0], [0, 0, 0, 0, 0, 0, 0, 0, 1, 0, 1, 0], [1, 0, 0, 0, 0, 1, 1, 0, 1, 1, 1, 0], [1, 0, 1, 1, 1, 0, 1, 0, 0, 0, 0, 0], [0, 0, 1, 1, 1, 1, 1, 0, 1, 1, 0, 1], [1, 0, 1, 0, 0, 0, 1, 1, 1, 0, 1, 0], [1, 1, 1, 1, 0, 0, 1, 0, 0, 0, 1, 0], [0, 1, 0, 0, 1, 1, 1, 0, 0, 0, 1, 1], [1, 1, 1, 0, 0, 0, 1, 0, 0, 1, 1, 0], [0, 1, 1, 1, 1, 0, 0, 1, 1, 1, 0, 1], [0, 1, 0, 0, 1, 0, 1, 0, 0, 0, 1, 0], [1, 0, 0, 1, 0, 1, 0, 0, 0, 0, 0, 1]]\n",
      "matrix before sorting\n",
      "0 1 0 1 1 0 1 0 1 1 1 0\n",
      "0 0 0 1 0 1 0 1 1 1 1 0\n",
      "0 1 0 1 1 0 0 1 0 1 0 1\n",
      "1 1 1 0 1 0 1 0 0 0 0 1\n",
      "0 1 0 0 0 0 0 1 1 1 0 1\n",
      "0 1 1 1 1 1 0 1 0 0 0 0\n",
      "0 1 0 0 1 1 1 0 0 0 0 1\n",
      "1 0 0 1 0 1 1 0 1 1 0 1\n",
      "0 1 1 0 1 1 1 1 1 0 1 0\n",
      "0 0 0 0 0 0 0 0 1 0 1 0\n",
      "1 0 0 0 0 1 1 0 1 1 1 0\n",
      "1 0 1 1 1 0 1 0 0 0 0 0\n",
      "0 0 1 1 1 1 1 0 1 1 0 1\n",
      "1 0 1 0 0 0 1 1 1 0 1 0\n",
      "1 1 1 1 0 0 1 0 0 0 1 0\n",
      "0 1 0 0 1 1 1 0 0 0 1 1\n",
      "1 1 1 0 0 0 1 0 0 1 1 0\n",
      "0 1 1 1 1 0 0 1 1 1 0 1\n",
      "0 1 0 0 1 0 1 0 0 0 1 0\n",
      "1 0 0 1 0 1 0 0 0 0 0 1\n",
      "matrix after sorting\n",
      "0 1 0 1 1 0 1 0 1 1 1 0\n",
      "0 0 0 1 0 1 0 1 1 1 1 0\n",
      "0 1 0 0 0 0 0 1 1 1 0 1\n",
      "0 1 0 1 1 0 0 1 0 1 0 1\n",
      "0 1 0 0 1 1 1 0 0 0 0 1\n",
      "1 1 1 0 1 0 1 0 0 0 0 1\n",
      "0 1 1 1 1 1 0 1 0 0 0 0\n",
      "0 1 1 0 1 1 1 1 1 0 1 0\n",
      "0 0 0 0 0 0 0 0 1 0 1 0\n",
      "1 0 0 0 0 1 1 0 1 1 1 0\n",
      "1 0 0 1 0 1 1 0 1 1 0 1\n",
      "0 0 1 1 1 1 1 0 1 1 0 1\n",
      "1 0 1 1 1 0 1 0 0 0 0 0\n",
      "1 1 1 1 0 0 1 0 0 0 1 0\n",
      "1 1 1 0 0 0 1 0 0 1 1 0\n",
      "1 0 1 0 0 0 1 1 1 0 1 0\n",
      "0 1 0 0 1 0 1 0 0 0 1 0\n",
      "0 1 0 0 1 1 1 0 0 0 1 1\n",
      "1 0 0 1 0 1 0 0 0 0 0 1\n",
      "0 1 1 1 1 0 0 1 1 1 0 1\n",
      "index before sorting [ 0  1  2  3  4  5  6  7  8  9 10 11 12 13 14 15 16 17 18 19]\n",
      "index after sorting [ 0  1  4  2  6  3  5  8  9 10  7 12 11 14 16 13 18 15 19 17]\n",
      "switchingact before sorting [5, 6, 6, 7, 6, 5, 9, 9, 7, 3, 6, 5, 5, 4, 8, 6, 8, 8]\n",
      "switchingact after sorting [5. 5. 3. 5. 3. 6. 4. 6. 4. 3. 3. 5. 3. 2. 4. 6. 2. 6. 0. 0.]\n",
      "Total switchingact before sorting 113\n",
      "Total switchingact after sorting 75.0\n",
      "Percentage of reduction in switching 33.6283185840708\n"
     ]
    },
    {
     "name": "stderr",
     "output_type": "stream",
     "text": [
      "C:\\Users\\admin\\AppData\\Local\\Temp\\ipykernel_15820\\560263640.py:2: DeprecationWarning: Calling np.sum(generator) is deprecated, and in the future will give a different result. Use np.sum(np.fromiter(generator)) or the python sum builtin instead.\n",
      "  return sum ( a[i] != b[i] for i in range(len(a)) )\n"
     ]
    }
   ],
   "source": [
    "#Sample sorting of simple binary matrix for presentation\n",
    "list_in = [[1, 0, 1, 1, 1, 1, 0, 1], \n",
    "           [1, 1, 1, 1, 1, 0, 0, 1],\n",
    "           [1, 0, 1, 1, 0, 1, 1, 1],\n",
    "           [1, 1, 1, 1, 1, 0, 0, 1],\n",
    "           [1, 0, 0, 1, 1, 1, 1, 1],\n",
    "           [1, 1, 1, 1, 1, 0, 0, 1],\n",
    "           [1, 0, 0, 1, 1, 1, 1, 1],\n",
    "           [1, 1, 1, 1, 1, 1, 0, 1],\n",
    "           [1, 0, 1, 1, 1, 0, 0, 1]]\n",
    "rows = 20\n",
    "columns = 12\n",
    "\n",
    "# Create a 2D list filled with random 0s and 1s\n",
    "list_in = [[random.randint(0, 2) for _ in range(columns)] for _ in range(rows)]\n",
    "print(list_in)\n",
    "list_len = len(list_in)\n",
    "print('matrix before sorting')\n",
    "for lst in list_in:\n",
    "    print(*lst)\n",
    "list_out, original_index, sw_vector, switchingact_original = sortFullMatrixbinary2(list_in)\n",
    "print('matrix after sorting')\n",
    "for lst in list_out:\n",
    "    print(*lst)\n",
    "print('index before sorting', np.asanyarray([i for i in range(list_len)]))\n",
    "print('index after sorting', original_index)\n",
    "print('switchingact before sorting', switchingact_original)\n",
    "print('switchingact after sorting',sw_vector)\n",
    "print('Total switchingact before sorting', np.sum(switchingact_original))\n",
    "print('Total switchingact after sorting',np.sum(sw_vector))\n",
    "print('Percentage of reduction in switching',(np.sum(switchingact_original)-np.sum(sw_vector))*100/np.sum(switchingact_original))\n"
   ]
  },
  {
   "cell_type": "code",
   "execution_count": null,
   "metadata": {},
   "outputs": [],
   "source": []
  }
 ],
 "metadata": {
  "celltoolbar": "Slideshow",
  "colab": {
   "provenance": []
  },
  "kernelspec": {
   "display_name": "Python 3 (ipykernel)",
   "language": "python",
   "name": "python3"
  },
  "language_info": {
   "codemirror_mode": {
    "name": "ipython",
    "version": 3
   },
   "file_extension": ".py",
   "mimetype": "text/x-python",
   "name": "python",
   "nbconvert_exporter": "python",
   "pygments_lexer": "ipython3",
   "version": "3.10.4"
  }
 },
 "nbformat": 4,
 "nbformat_minor": 1
}
