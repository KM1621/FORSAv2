{
 "cells": [
  {
   "cell_type": "code",
   "execution_count": 5,
   "id": "88f9ac6f",
   "metadata": {
    "scrolled": true
   },
   "outputs": [
    {
     "name": "stderr",
     "output_type": "stream",
     "text": [
      "Using cache found in C:\\Users\\huruy/.cache\\torch\\hub\\pytorch_vision_v0.10.0\n"
     ]
    },
    {
     "data": {
      "text/plain": [
       "ResNet(\n",
       "  (conv1): Conv2d(3, 64, kernel_size=(7, 7), stride=(2, 2), padding=(3, 3), bias=False)\n",
       "  (bn1): BatchNorm2d(64, eps=1e-05, momentum=0.1, affine=True, track_running_stats=True)\n",
       "  (relu): ReLU(inplace=True)\n",
       "  (maxpool): MaxPool2d(kernel_size=3, stride=2, padding=1, dilation=1, ceil_mode=False)\n",
       "  (layer1): Sequential(\n",
       "    (0): BasicBlock(\n",
       "      (conv1): Conv2d(64, 64, kernel_size=(3, 3), stride=(1, 1), padding=(1, 1), bias=False)\n",
       "      (bn1): BatchNorm2d(64, eps=1e-05, momentum=0.1, affine=True, track_running_stats=True)\n",
       "      (relu): ReLU(inplace=True)\n",
       "      (conv2): Conv2d(64, 64, kernel_size=(3, 3), stride=(1, 1), padding=(1, 1), bias=False)\n",
       "      (bn2): BatchNorm2d(64, eps=1e-05, momentum=0.1, affine=True, track_running_stats=True)\n",
       "    )\n",
       "    (1): BasicBlock(\n",
       "      (conv1): Conv2d(64, 64, kernel_size=(3, 3), stride=(1, 1), padding=(1, 1), bias=False)\n",
       "      (bn1): BatchNorm2d(64, eps=1e-05, momentum=0.1, affine=True, track_running_stats=True)\n",
       "      (relu): ReLU(inplace=True)\n",
       "      (conv2): Conv2d(64, 64, kernel_size=(3, 3), stride=(1, 1), padding=(1, 1), bias=False)\n",
       "      (bn2): BatchNorm2d(64, eps=1e-05, momentum=0.1, affine=True, track_running_stats=True)\n",
       "    )\n",
       "  )\n",
       "  (layer2): Sequential(\n",
       "    (0): BasicBlock(\n",
       "      (conv1): Conv2d(64, 128, kernel_size=(3, 3), stride=(2, 2), padding=(1, 1), bias=False)\n",
       "      (bn1): BatchNorm2d(128, eps=1e-05, momentum=0.1, affine=True, track_running_stats=True)\n",
       "      (relu): ReLU(inplace=True)\n",
       "      (conv2): Conv2d(128, 128, kernel_size=(3, 3), stride=(1, 1), padding=(1, 1), bias=False)\n",
       "      (bn2): BatchNorm2d(128, eps=1e-05, momentum=0.1, affine=True, track_running_stats=True)\n",
       "      (downsample): Sequential(\n",
       "        (0): Conv2d(64, 128, kernel_size=(1, 1), stride=(2, 2), bias=False)\n",
       "        (1): BatchNorm2d(128, eps=1e-05, momentum=0.1, affine=True, track_running_stats=True)\n",
       "      )\n",
       "    )\n",
       "    (1): BasicBlock(\n",
       "      (conv1): Conv2d(128, 128, kernel_size=(3, 3), stride=(1, 1), padding=(1, 1), bias=False)\n",
       "      (bn1): BatchNorm2d(128, eps=1e-05, momentum=0.1, affine=True, track_running_stats=True)\n",
       "      (relu): ReLU(inplace=True)\n",
       "      (conv2): Conv2d(128, 128, kernel_size=(3, 3), stride=(1, 1), padding=(1, 1), bias=False)\n",
       "      (bn2): BatchNorm2d(128, eps=1e-05, momentum=0.1, affine=True, track_running_stats=True)\n",
       "    )\n",
       "  )\n",
       "  (layer3): Sequential(\n",
       "    (0): BasicBlock(\n",
       "      (conv1): Conv2d(128, 256, kernel_size=(3, 3), stride=(2, 2), padding=(1, 1), bias=False)\n",
       "      (bn1): BatchNorm2d(256, eps=1e-05, momentum=0.1, affine=True, track_running_stats=True)\n",
       "      (relu): ReLU(inplace=True)\n",
       "      (conv2): Conv2d(256, 256, kernel_size=(3, 3), stride=(1, 1), padding=(1, 1), bias=False)\n",
       "      (bn2): BatchNorm2d(256, eps=1e-05, momentum=0.1, affine=True, track_running_stats=True)\n",
       "      (downsample): Sequential(\n",
       "        (0): Conv2d(128, 256, kernel_size=(1, 1), stride=(2, 2), bias=False)\n",
       "        (1): BatchNorm2d(256, eps=1e-05, momentum=0.1, affine=True, track_running_stats=True)\n",
       "      )\n",
       "    )\n",
       "    (1): BasicBlock(\n",
       "      (conv1): Conv2d(256, 256, kernel_size=(3, 3), stride=(1, 1), padding=(1, 1), bias=False)\n",
       "      (bn1): BatchNorm2d(256, eps=1e-05, momentum=0.1, affine=True, track_running_stats=True)\n",
       "      (relu): ReLU(inplace=True)\n",
       "      (conv2): Conv2d(256, 256, kernel_size=(3, 3), stride=(1, 1), padding=(1, 1), bias=False)\n",
       "      (bn2): BatchNorm2d(256, eps=1e-05, momentum=0.1, affine=True, track_running_stats=True)\n",
       "    )\n",
       "  )\n",
       "  (layer4): Sequential(\n",
       "    (0): BasicBlock(\n",
       "      (conv1): Conv2d(256, 512, kernel_size=(3, 3), stride=(2, 2), padding=(1, 1), bias=False)\n",
       "      (bn1): BatchNorm2d(512, eps=1e-05, momentum=0.1, affine=True, track_running_stats=True)\n",
       "      (relu): ReLU(inplace=True)\n",
       "      (conv2): Conv2d(512, 512, kernel_size=(3, 3), stride=(1, 1), padding=(1, 1), bias=False)\n",
       "      (bn2): BatchNorm2d(512, eps=1e-05, momentum=0.1, affine=True, track_running_stats=True)\n",
       "      (downsample): Sequential(\n",
       "        (0): Conv2d(256, 512, kernel_size=(1, 1), stride=(2, 2), bias=False)\n",
       "        (1): BatchNorm2d(512, eps=1e-05, momentum=0.1, affine=True, track_running_stats=True)\n",
       "      )\n",
       "    )\n",
       "    (1): BasicBlock(\n",
       "      (conv1): Conv2d(512, 512, kernel_size=(3, 3), stride=(1, 1), padding=(1, 1), bias=False)\n",
       "      (bn1): BatchNorm2d(512, eps=1e-05, momentum=0.1, affine=True, track_running_stats=True)\n",
       "      (relu): ReLU(inplace=True)\n",
       "      (conv2): Conv2d(512, 512, kernel_size=(3, 3), stride=(1, 1), padding=(1, 1), bias=False)\n",
       "      (bn2): BatchNorm2d(512, eps=1e-05, momentum=0.1, affine=True, track_running_stats=True)\n",
       "    )\n",
       "  )\n",
       "  (avgpool): AdaptiveAvgPool2d(output_size=(1, 1))\n",
       "  (fc): Linear(in_features=512, out_features=1000, bias=True)\n",
       ")"
      ]
     },
     "execution_count": 5,
     "metadata": {},
     "output_type": "execute_result"
    }
   ],
   "source": [
    "import torch\n",
    "import torch.nn as nn\n",
    "import numpy as np\n",
    "from utilis_ForsaV2 import *\n",
    "import utilis_ForsaV2\n",
    "# !pip install fxpmath\\\n",
    "from fxpmath import Fxp\n",
    "import time\n",
    "word_size  = 8\n",
    "frac_size = 6\n",
    "utilis_ForsaV2.word_size = word_size\n",
    "utilis_ForsaV2.frac_size = frac_size\n",
    "# from tensorboardX import SummaryWriter\n",
    "# from transforms import *\n",
    "# from models_cust import *\n",
    "model = torch.hub.load('pytorch/vision:v0.10.0', 'resnet18', pretrained=True)\n",
    "model.eval()"
   ]
  },
  {
   "cell_type": "code",
   "execution_count": 2,
   "id": "01a90752",
   "metadata": {},
   "outputs": [],
   "source": [
    "# # Uncomment to visualize it in netron locally\n",
    "# # Assuming `model` is your PyTorch model\n",
    "# model_path = './PretrainedModels/resnet18PretrainedIM1K.pth'\n",
    "\n",
    "# # Save the entire model, including its architecture and trained parameters\n",
    "# # torch.save(model, model_path)\n",
    "# torch.jit.script(model).save(model_path)"
   ]
  },
  {
   "cell_type": "code",
   "execution_count": 9,
   "id": "6503a734",
   "metadata": {},
   "outputs": [
    {
     "name": "stdout",
     "output_type": "stream",
     "text": [
      "11689512\n"
     ]
    }
   ],
   "source": [
    "def count_parameters(model):\n",
    "    return sum(p.numel() for p in model.parameters() if p.requires_grad)\n",
    "print(count_parameters(model))"
   ]
  },
  {
   "cell_type": "code",
   "execution_count": 6,
   "id": "0075be0a",
   "metadata": {},
   "outputs": [
    {
     "name": "stdout",
     "output_type": "stream",
     "text": [
      "Switching before sorting 33858.0\n",
      "Switching after sorting 27188.0\n",
      "Percentage of reduction 19.69992320869514 %\n",
      "Switching before sorting 156.0\n",
      "Switching after sorting 123.0\n",
      "Percentage of reduction 21.153846153846153 %\n",
      "Switching before sorting 212.0\n",
      "Switching after sorting 186.0\n",
      "Percentage of reduction 12.264150943396226 %\n",
      "Switching before sorting 254.0\n",
      "Switching after sorting 240.0\n",
      "Percentage of reduction 5.511811023622047 %\n",
      "Switching before sorting 260.0\n",
      "Switching after sorting 206.0\n",
      "Percentage of reduction 20.76923076923077 %\n"
     ]
    }
   ],
   "source": [
    "# Generate index from sorting conv1 to rearrange layers that follow\n",
    "_, new_indx1 = sortFullMatrix_V2(model.conv1.weight)\n",
    "# Sorting \n",
    "model.conv1.weight.data, _ = compare_sw_sort(model.conv1.weight.data, new_indx1, -3)\n",
    "############ rearranging bn1\n",
    "model.bn1.weight.data, _ = compare_sw_sort(model.bn1.weight, new_indx1, -1)\n",
    "model.bn1.bias.data, _ = compare_sw_sort(model.bn1.bias, new_indx1, -1)\n",
    "model.bn1.running_mean.data, _ = compare_sw_sort(model.bn1.running_mean, new_indx1, -1)\n",
    "model.bn1.running_var.data, _ = compare_sw_sort(model.bn1.running_var, new_indx1, -1)\n",
    "###############################\n",
    "############## Layer 1.0 ########\n",
    "# Rearranging layer1.0.conv1 along channel dimension\n",
    "model.layer1[0].conv1.weight.data =model.layer1[0].conv1.weight[:, new_indx1, :, :]  \n",
    "### Sorting layer1.0.conv1 along filter dimension\n",
    "model.layer1[0].conv2.weight.data =model.layer1[0].conv2.weight[new_indx1, :, :, :]  \n",
    "model.layer1[0].bn2.weight.data =model.layer1[0].bn2.weight[new_indx1]  \n",
    "model.layer1[0].bn2.bias.data =model.layer1[0].bn2.bias[new_indx1]  \n",
    "model.layer1[0].bn2.running_mean.data =model.layer1[0].bn2.running_mean[new_indx1]  \n",
    "model.layer1[0].bn2.running_var.data =model.layer1[0].bn2.running_var[new_indx1]  \n",
    "\n",
    "###############################\n",
    "############## Layer 1.1 ########\n",
    "# Rearranging layer1.0.conv1 along channel dimension\n",
    "model.layer1[1].conv1.weight.data =model.layer1[1].conv1.weight[:, new_indx1, :, :]  \n",
    "### Sorting layer1.0.conv1 along filter dimension\n",
    "model.layer1[1].conv2.weight.data =model.layer1[1].conv2.weight[new_indx1, :, :, :]  \n",
    "model.layer1[1].bn2.weight.data =model.layer1[1].bn2.weight[new_indx1]  \n",
    "model.layer1[1].bn2.bias.data =model.layer1[1].bn2.bias[new_indx1]  \n",
    "model.layer1[1].bn2.running_mean.data =model.layer1[1].bn2.running_mean[new_indx1]  \n",
    "model.layer1[1].bn2.running_var.data =model.layer1[1].bn2.running_var[new_indx1]  \n",
    "\n",
    "###############################\n",
    "############## Layer 2.0 ########\n",
    "# Rearranging layer1.0.conv1 along channel dimension\n",
    "model.layer2[0].conv1.weight.data =model.layer2[0].conv1.weight[:, new_indx1, :, :]  \n",
    "\n",
    "###############################\n",
    "############## Layer 2.0 ########\n",
    "# Rearranging layer1.0.conv1 along channel dimension\n",
    "model.layer2[0].downsample[0].weight.data =model.layer2[0].downsample[0].weight[:, new_indx1, :, :]  \n",
    "\n",
    "# model.layer1[0].conv2.weight.data, _ = compare_sw_sort(model.layer1[0].conv2.weight, new_indx1, -3)\n",
    "# model.layer1[0].bn2.weight.data, _ = compare_sw_sort(model.layer1[0].bn2.weight, new_indx1, -1)\n",
    "# model.layer1[0].bn2.bias.data, _ = compare_sw_sort(model.layer1[0].bn2.bias, new_indx1, -1)\n",
    "# model.layer1[0].bn2.running_mean.data, _ = compare_sw_sort(model.layer1[0].bn2.running_mean, new_indx1, -1)\n",
    "# model.layer1[0].bn2.running_var.data, _ = compare_sw_sort(model.layer1[0].bn2.running_var, new_indx1, -1)\n"
   ]
  },
  {
   "cell_type": "markdown",
   "id": "15f081e1",
   "metadata": {},
   "source": [
    "# Evaluating Model output "
   ]
  },
  {
   "cell_type": "code",
   "execution_count": 7,
   "id": "9cd28efb",
   "metadata": {},
   "outputs": [],
   "source": [
    "# sample execution (requires torchvision)\n",
    "from PIL import Image\n",
    "from torchvision import transforms\n",
    "filename = 'dog.jpg'\n",
    "input_image = Image.open(filename)\n",
    "preprocess = transforms.Compose([\n",
    "    transforms.Resize(256),\n",
    "    transforms.CenterCrop(224),\n",
    "    transforms.ToTensor(),\n",
    "    transforms.Normalize(mean=[0.485, 0.456, 0.406], std=[0.229, 0.224, 0.225]),\n",
    "])\n",
    "input_tensor = preprocess(input_image)\n",
    "input_batch = input_tensor.unsqueeze(0) # create a mini-batch as expected by the model\n",
    "\n",
    "# move the input and model to GPU for speed if available\n",
    "if torch.cuda.is_available():\n",
    "    input_batch = input_batch.to('cuda')\n",
    "    model.to('cuda')\n",
    "\n",
    "with torch.no_grad():\n",
    "    output = model(input_batch)\n",
    "# Tensor of shape 1000, with confidence scores over ImageNet's 1000 classes\n",
    "\n",
    "# The output has unnormalized scores. To get probabilities, you can run a softmax on it.\n",
    "probabilities = torch.nn.functional.softmax(output[0], dim=0)\n"
   ]
  },
  {
   "cell_type": "code",
   "execution_count": 8,
   "id": "500651ac",
   "metadata": {},
   "outputs": [
    {
     "name": "stdout",
     "output_type": "stream",
     "text": [
      "Samoyed 0.88462233543396\n",
      "Arctic fox 0.0458049476146698\n",
      "white wolf 0.044276103377342224\n",
      "Pomeranian 0.0056213438510894775\n",
      "Great Pyrenees 0.004652012605220079\n"
     ]
    }
   ],
   "source": [
    "# Read the categories\n",
    "with open(\"imagenet_classes.txt\", \"r\") as f:\n",
    "    categories = [s.strip() for s in f.readlines()]\n",
    "# Show top categories per image\n",
    "top5_prob, top5_catid = torch.topk(probabilities, 5)\n",
    "for i in range(top5_prob.size(0)):\n",
    "    print(categories[top5_catid[i]], top5_prob[i].item())"
   ]
  },
  {
   "cell_type": "code",
   "execution_count": null,
   "id": "c4496b65",
   "metadata": {},
   "outputs": [],
   "source": []
  }
 ],
 "metadata": {
  "kernelspec": {
   "display_name": "Python 3 (ipykernel)",
   "language": "python",
   "name": "python3"
  },
  "language_info": {
   "codemirror_mode": {
    "name": "ipython",
    "version": 3
   },
   "file_extension": ".py",
   "mimetype": "text/x-python",
   "name": "python",
   "nbconvert_exporter": "python",
   "pygments_lexer": "ipython3",
   "version": "3.10.4"
  }
 },
 "nbformat": 4,
 "nbformat_minor": 5
}
