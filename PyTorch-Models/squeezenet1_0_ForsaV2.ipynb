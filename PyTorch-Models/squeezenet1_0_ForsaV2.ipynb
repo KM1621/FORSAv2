{
 "cells": [
  {
   "cell_type": "code",
   "execution_count": 1,
   "id": "69588a46",
   "metadata": {},
   "outputs": [
    {
     "data": {
      "text/html": [
       "<style>.container { width:100% !important; }</style>"
      ],
      "text/plain": [
       "<IPython.core.display.HTML object>"
      ]
     },
     "metadata": {},
     "output_type": "display_data"
    }
   ],
   "source": [
    "from IPython.display import display, HTML\n",
    "display(HTML(\"<style>.container { width:100% !important; }</style>\"))"
   ]
  },
  {
   "cell_type": "code",
   "execution_count": 2,
   "id": "88f9ac6f",
   "metadata": {
    "scrolled": true
   },
   "outputs": [],
   "source": [
    "import torch\n",
    "import torch.nn as nn\n",
    "import numpy as np\n",
    "from utilis_ForsaV2 import *\n",
    "import utilis_ForsaV2\n",
    "# !pip install fxpmath\\\n",
    "from fxpmath import Fxp\n",
    "import time\n",
    "word_size  = 8\n",
    "frac_size = 6\n",
    "utilis_ForsaV2.word_size = word_size\n",
    "utilis_ForsaV2.frac_size = frac_size\n",
    "# from tensorboardX import SummaryWriter\n",
    "# from transforms import *\n"
   ]
  },
  {
   "cell_type": "code",
   "execution_count": 3,
   "id": "fd252c2c",
   "metadata": {
    "scrolled": true
   },
   "outputs": [
    {
     "name": "stderr",
     "output_type": "stream",
     "text": [
      "Using cache found in C:\\Users\\huruy/.cache\\torch\\hub\\pytorch_vision_v0.10.0\n"
     ]
    },
    {
     "data": {
      "text/plain": [
       "SqueezeNet(\n",
       "  (features): Sequential(\n",
       "    (0): Conv2d(3, 96, kernel_size=(7, 7), stride=(2, 2))\n",
       "    (1): ReLU(inplace=True)\n",
       "    (2): MaxPool2d(kernel_size=3, stride=2, padding=0, dilation=1, ceil_mode=True)\n",
       "    (3): Fire(\n",
       "      (squeeze): Conv2d(96, 16, kernel_size=(1, 1), stride=(1, 1))\n",
       "      (squeeze_activation): ReLU(inplace=True)\n",
       "      (expand1x1): Conv2d(16, 64, kernel_size=(1, 1), stride=(1, 1))\n",
       "      (expand1x1_activation): ReLU(inplace=True)\n",
       "      (expand3x3): Conv2d(16, 64, kernel_size=(3, 3), stride=(1, 1), padding=(1, 1))\n",
       "      (expand3x3_activation): ReLU(inplace=True)\n",
       "    )\n",
       "    (4): Fire(\n",
       "      (squeeze): Conv2d(128, 16, kernel_size=(1, 1), stride=(1, 1))\n",
       "      (squeeze_activation): ReLU(inplace=True)\n",
       "      (expand1x1): Conv2d(16, 64, kernel_size=(1, 1), stride=(1, 1))\n",
       "      (expand1x1_activation): ReLU(inplace=True)\n",
       "      (expand3x3): Conv2d(16, 64, kernel_size=(3, 3), stride=(1, 1), padding=(1, 1))\n",
       "      (expand3x3_activation): ReLU(inplace=True)\n",
       "    )\n",
       "    (5): Fire(\n",
       "      (squeeze): Conv2d(128, 32, kernel_size=(1, 1), stride=(1, 1))\n",
       "      (squeeze_activation): ReLU(inplace=True)\n",
       "      (expand1x1): Conv2d(32, 128, kernel_size=(1, 1), stride=(1, 1))\n",
       "      (expand1x1_activation): ReLU(inplace=True)\n",
       "      (expand3x3): Conv2d(32, 128, kernel_size=(3, 3), stride=(1, 1), padding=(1, 1))\n",
       "      (expand3x3_activation): ReLU(inplace=True)\n",
       "    )\n",
       "    (6): MaxPool2d(kernel_size=3, stride=2, padding=0, dilation=1, ceil_mode=True)\n",
       "    (7): Fire(\n",
       "      (squeeze): Conv2d(256, 32, kernel_size=(1, 1), stride=(1, 1))\n",
       "      (squeeze_activation): ReLU(inplace=True)\n",
       "      (expand1x1): Conv2d(32, 128, kernel_size=(1, 1), stride=(1, 1))\n",
       "      (expand1x1_activation): ReLU(inplace=True)\n",
       "      (expand3x3): Conv2d(32, 128, kernel_size=(3, 3), stride=(1, 1), padding=(1, 1))\n",
       "      (expand3x3_activation): ReLU(inplace=True)\n",
       "    )\n",
       "    (8): Fire(\n",
       "      (squeeze): Conv2d(256, 48, kernel_size=(1, 1), stride=(1, 1))\n",
       "      (squeeze_activation): ReLU(inplace=True)\n",
       "      (expand1x1): Conv2d(48, 192, kernel_size=(1, 1), stride=(1, 1))\n",
       "      (expand1x1_activation): ReLU(inplace=True)\n",
       "      (expand3x3): Conv2d(48, 192, kernel_size=(3, 3), stride=(1, 1), padding=(1, 1))\n",
       "      (expand3x3_activation): ReLU(inplace=True)\n",
       "    )\n",
       "    (9): Fire(\n",
       "      (squeeze): Conv2d(384, 48, kernel_size=(1, 1), stride=(1, 1))\n",
       "      (squeeze_activation): ReLU(inplace=True)\n",
       "      (expand1x1): Conv2d(48, 192, kernel_size=(1, 1), stride=(1, 1))\n",
       "      (expand1x1_activation): ReLU(inplace=True)\n",
       "      (expand3x3): Conv2d(48, 192, kernel_size=(3, 3), stride=(1, 1), padding=(1, 1))\n",
       "      (expand3x3_activation): ReLU(inplace=True)\n",
       "    )\n",
       "    (10): Fire(\n",
       "      (squeeze): Conv2d(384, 64, kernel_size=(1, 1), stride=(1, 1))\n",
       "      (squeeze_activation): ReLU(inplace=True)\n",
       "      (expand1x1): Conv2d(64, 256, kernel_size=(1, 1), stride=(1, 1))\n",
       "      (expand1x1_activation): ReLU(inplace=True)\n",
       "      (expand3x3): Conv2d(64, 256, kernel_size=(3, 3), stride=(1, 1), padding=(1, 1))\n",
       "      (expand3x3_activation): ReLU(inplace=True)\n",
       "    )\n",
       "    (11): MaxPool2d(kernel_size=3, stride=2, padding=0, dilation=1, ceil_mode=True)\n",
       "    (12): Fire(\n",
       "      (squeeze): Conv2d(512, 64, kernel_size=(1, 1), stride=(1, 1))\n",
       "      (squeeze_activation): ReLU(inplace=True)\n",
       "      (expand1x1): Conv2d(64, 256, kernel_size=(1, 1), stride=(1, 1))\n",
       "      (expand1x1_activation): ReLU(inplace=True)\n",
       "      (expand3x3): Conv2d(64, 256, kernel_size=(3, 3), stride=(1, 1), padding=(1, 1))\n",
       "      (expand3x3_activation): ReLU(inplace=True)\n",
       "    )\n",
       "  )\n",
       "  (classifier): Sequential(\n",
       "    (0): Dropout(p=0.5, inplace=False)\n",
       "    (1): Conv2d(512, 1000, kernel_size=(1, 1), stride=(1, 1))\n",
       "    (2): ReLU(inplace=True)\n",
       "    (3): AdaptiveAvgPool2d(output_size=(1, 1))\n",
       "  )\n",
       ")"
      ]
     },
     "execution_count": 3,
     "metadata": {},
     "output_type": "execute_result"
    }
   ],
   "source": [
    "# from models_cust import *\n",
    "model = torch.hub.load('pytorch/vision:v0.10.0', 'squeezenet1_0', pretrained=True)\n",
    "model.eval()"
   ]
  },
  {
   "cell_type": "code",
   "execution_count": 4,
   "id": "01a90752",
   "metadata": {},
   "outputs": [],
   "source": [
    "# # Uncomment to visualize it in netron locally\n",
    "# # Assuming `model` is your PyTorch model\n",
    "# model_path = './PretrainedModels/squeezenet1_0PretrainedIM1K.pth'\n",
    "\n",
    "# # # Save the entire model, including its architecture and trained parameters\n",
    "# # # torch.save(model, model_path)\n",
    "# torch.jit.script(model).save(model_path)"
   ]
  },
  {
   "cell_type": "code",
   "execution_count": 5,
   "id": "6503a734",
   "metadata": {},
   "outputs": [
    {
     "name": "stdout",
     "output_type": "stream",
     "text": [
      "1248424\n"
     ]
    }
   ],
   "source": [
    "def count_parameters(model):\n",
    "    return sum(p.numel() for p in model.parameters() if p.requires_grad)\n",
    "print(count_parameters(model))"
   ]
  },
  {
   "cell_type": "markdown",
   "id": "558326af",
   "metadata": {},
   "source": [
    "# Sorting first conv blocks"
   ]
  },
  {
   "cell_type": "code",
   "execution_count": 6,
   "id": "ac9199ff",
   "metadata": {},
   "outputs": [],
   "source": [
    "No_conv_layers=26 # to exlude classifier network\n",
    "sw_wt = np.zeros(No_conv_layers)\n",
    "sw_wt_sorted = np.zeros(No_conv_layers)\n"
   ]
  },
  {
   "cell_type": "code",
   "execution_count": 7,
   "id": "2747ed94",
   "metadata": {},
   "outputs": [
    {
     "name": "stdout",
     "output_type": "stream",
     "text": [
      "Switching before sorting 53762.0\n",
      "Switching after sorting 43609.0\n",
      "Percentage of switching reduction 18.885086120308024 %\n"
     ]
    }
   ],
   "source": [
    "# Sorting features.0\n",
    "_, new_indx1 = sortFullMatrix_V2(model.features[0].weight)\n",
    "model.features[0].weight.data, _, sw_wt[0], sw_wt_sorted[0]  = compare_sw_sort(model.features[0].weight.data, new_indx1, -3, printsumm=True)\n",
    "model.features[0].bias.data, _, _, _  = compare_sw_sort(model.features[0].bias.data, new_indx1, -1)\n",
    "# Rearranging features.3.squeeze\n",
    "model.features[3].squeeze.weight.data = model.features[3].squeeze.weight[:, new_indx1, :, :]"
   ]
  },
  {
   "cell_type": "code",
   "execution_count": 8,
   "id": "02683067",
   "metadata": {},
   "outputs": [
    {
     "name": "stdout",
     "output_type": "stream",
     "text": [
      "Switching before sorting 5532.0\n",
      "Switching after sorting 5105.0\n",
      "Percentage of switching reduction 7.718727404193782 %\n"
     ]
    }
   ],
   "source": [
    "# Sorting features.3.squeeze\n",
    "_, new_indx1 = sortFullMatrix_V2(model.features[3].squeeze.weight)\n",
    "model.features[3].squeeze.weight.data, _, sw_wt[1], sw_wt_sorted[1]  = compare_sw_sort(model.features[3].squeeze.weight.data, new_indx1, -3, printsumm=True)\n",
    "model.features[3].squeeze.bias.data, _, _, _  = compare_sw_sort(model.features[3].squeeze.bias.data, new_indx1, -1)\n",
    "# Rearranging features.3.expand1x1 and features.3.expand3x3\n",
    "model.features[3].expand1x1.weight.data = model.features[3].expand1x1.weight[:, new_indx1, :, :]\n",
    "model.features[3].expand3x3.weight.data = model.features[3].expand3x3.weight[:, new_indx1, :, :]"
   ]
  },
  {
   "cell_type": "code",
   "execution_count": 9,
   "id": "e929c1e5",
   "metadata": {
    "scrolled": true
   },
   "outputs": [
    {
     "name": "stdout",
     "output_type": "stream",
     "text": [
      "working on block ... 3\n",
      "Switching before sorting 5105.0\n",
      "Switching after sorting 5105.0\n",
      "Percentage of switching reduction 0.0 %\n",
      "Switching before sorting 3697.0\n",
      "Switching after sorting 2683.0\n",
      "Percentage of switching reduction 27.427644035704624 %\n",
      "Switching before sorting 34905.0\n",
      "Switching after sorting 29334.0\n",
      "Percentage of switching reduction 15.960464116888698 %\n",
      "working on block ... 4\n",
      "Switching before sorting 7174.0\n",
      "Switching after sorting 6680.0\n",
      "Percentage of switching reduction 6.885977139671034 %\n",
      "Switching before sorting 4033.0\n",
      "Switching after sorting 2880.0\n",
      "Percentage of switching reduction 28.58913959831391 %\n",
      "Switching before sorting 34580.0\n",
      "Switching after sorting 29902.0\n",
      "Percentage of switching reduction 13.52805089647195 %\n",
      "working on block ... 5\n",
      "Switching before sorting 15985.0\n",
      "Switching after sorting 13976.0\n",
      "Percentage of switching reduction 12.56803253049734 %\n",
      "Switching before sorting 15691.0\n",
      "Switching after sorting 11557.0\n",
      "Percentage of switching reduction 26.346313173156588 %\n",
      "Switching before sorting 139186.0\n",
      "Switching after sorting 123188.0\n",
      "Percentage of switching reduction 11.493972094894602 %\n",
      "working on block ... 7\n",
      "Switching before sorting 30152.0\n",
      "Switching after sorting 28115.0\n",
      "Percentage of switching reduction 6.755770761475192 %\n",
      "Switching before sorting 15777.0\n",
      "Switching after sorting 11992.0\n",
      "Percentage of switching reduction 23.990619255878812 %\n",
      "Switching before sorting 139099.0\n",
      "Switching after sorting 120779.0\n",
      "Percentage of switching reduction 13.170475704354452 %\n",
      "working on block ... 8\n",
      "Switching before sorting 46669.0\n",
      "Switching after sorting 41821.0\n",
      "Percentage of switching reduction 10.38805202597013 %\n",
      "Switching before sorting 34733.0\n",
      "Switching after sorting 25704.0\n",
      "Percentage of switching reduction 25.995451012005873 %\n",
      "Switching before sorting 209369.0\n",
      "Switching after sorting 180695.0\n",
      "Percentage of switching reduction 13.695437242380677 %\n",
      "working on block ... 9\n",
      "Switching before sorting 67646.0\n",
      "Switching after sorting 62062.0\n",
      "Percentage of switching reduction 8.254737900245395 %\n",
      "Switching before sorting 35268.0\n",
      "Switching after sorting 26540.0\n",
      "Percentage of switching reduction 24.747646591811275 %\n",
      "Switching before sorting 210644.0\n",
      "Switching after sorting 180916.0\n",
      "Percentage of switching reduction 14.112910882816506 %\n",
      "working on block ... 10\n",
      "Switching before sorting 94453.0\n",
      "Switching after sorting 85259.0\n",
      "Percentage of switching reduction 9.733941748806284 %\n",
      "Switching before sorting 63988.0\n",
      "Switching after sorting 49018.0\n",
      "Percentage of switching reduction 23.395011564668376 %\n",
      "Switching before sorting 549790.0\n",
      "Switching after sorting 488981.0\n",
      "Percentage of switching reduction 11.060404881863985 %\n",
      "working on block ... 12\n",
      "Switching before sorting 125252.0\n",
      "Switching after sorting 116780.0\n",
      "Percentage of switching reduction 6.763963848880657 %\n",
      "Switching before sorting 63924.0\n",
      "Switching after sorting 51188.0\n",
      "Percentage of switching reduction 19.92365934547275 %\n",
      "Switching before sorting 549310.0\n",
      "Switching after sorting 480412.0\n",
      "Percentage of switching reduction 12.54264440843968 %\n"
     ]
    }
   ],
   "source": [
    "features_lst = [3, 4, 5, 7, 8, 9, 10, 12]\n",
    "iplus1 = 0\n",
    "sw_wt_idx = 1\n",
    "for i in features_lst:\n",
    "    print('working on block ...', i)\n",
    "    # Sorting features.3.squeeze\n",
    "    _, new_indx1 = sortFullMatrix_V2(model.features[i].squeeze.weight)\n",
    "    model.features[i].squeeze.weight.data, _, sw_wt[sw_wt_idx], sw_wt_sorted[sw_wt_idx]  = compare_sw_sort(model.features[i].squeeze.weight.data, new_indx1, -3, printsumm=True)\n",
    "    sw_wt_idx = sw_wt_idx + 1\n",
    "    model.features[i].squeeze.bias.data, _, _, _  = compare_sw_sort(model.features[i].squeeze.bias.data, new_indx1, -1)\n",
    "    # Rearranging features.3.expand1x1 and features.3.expand3x3\n",
    "    model.features[i].expand1x1.weight.data = model.features[i].expand1x1.weight[:, new_indx1, :, :]\n",
    "    model.features[i].expand3x3.weight.data = model.features[i].expand3x3.weight[:, new_indx1, :, :]\n",
    "    \n",
    "\n",
    "    # Sorting features.3.expand1x1\n",
    "    _, new_indxb1 = sortFullMatrix_V2(model.features[i].expand1x1.weight)\n",
    "    model.features[i].expand1x1.weight.data, _, sw_wt[sw_wt_idx], sw_wt_sorted[sw_wt_idx]  = compare_sw_sort(model.features[i].expand1x1.weight.data, new_indxb1, -3, printsumm=True)\n",
    "    sw_wt_idx = sw_wt_idx + 1\n",
    "    model.features[i].expand1x1.bias.data, _, _, _  = compare_sw_sort(model.features[i].expand1x1.bias.data, new_indxb1, -1)\n",
    "    # Sorting features.3.expand3x3\n",
    "    _, new_indxb2 = sortFullMatrix_V2(model.features[i].expand3x3.weight)\n",
    "    model.features[i].expand3x3.weight.data, _, sw_wt[sw_wt_idx], sw_wt_sorted[sw_wt_idx]  = compare_sw_sort(model.features[i].expand3x3.weight.data, new_indxb2, -3, printsumm=True)\n",
    "    sw_wt_idx = sw_wt_idx + 1\n",
    "    model.features[i].expand3x3.bias.data, _, _, _  = compare_sw_sort(model.features[i].expand3x3.bias.data, new_indxb2, -1)\n",
    "    new_indxb2 = new_indxb2 + model.features[i].expand1x1.weight.shape[0] # incrementing all indeces  b2 for concatenation at the next layer\n",
    "    new_indxsqz2 = np.concatenate((new_indxb1, new_indxb2), 0) #np.concatenate\n",
    "\n",
    "    if i<=10:\n",
    "        # Rearranging features.4.squeeze\n",
    "        model.features[features_lst[iplus1+1]].squeeze.weight.data = model.features[features_lst[iplus1+1]].squeeze.weight[:, new_indxsqz2, :, :]\n",
    "    else:\n",
    "        # Rearranging classifier.1\n",
    "        model.classifier[1].weight.data = model.classifier[1].weight[:, new_indxsqz2, :, :]\n",
    "    iplus1 = iplus1 + 1"
   ]
  },
  {
   "cell_type": "code",
   "execution_count": 10,
   "id": "0fccb5d4",
   "metadata": {},
   "outputs": [
    {
     "name": "stdout",
     "output_type": "stream",
     "text": [
      "Switching before sorting [ 53762.   5105.   3697.  34905.   7174.   4033.  34580.  15985.  15691.\n",
      " 139186.  30152.  15777. 139099.  46669.  34733. 209369.  67646.  35268.\n",
      " 210644.  94453.  63988. 549790. 125252.  63924. 549310.      0.]\n",
      "Switching after sorting [ 43609.   5105.   2683.  29334.   6680.   2880.  29902.  13976.  11557.\n",
      " 123188.  28115.  11992. 120779.  41821.  25704. 180695.  62062.  26540.\n",
      " 180916.  85259.  49018. 488981. 116780.  51188. 480412.      0.]\n",
      "Percentage of reduction in switching in each fire modules [18.88508612  0.         27.42764404 15.96046412  6.88597714 28.5891396\n",
      " 13.5280509  12.56803253 26.34631317 11.49397209  6.75577076 23.99061926\n",
      " 13.1704757  10.38805203 25.99545101 13.69543724  8.2547379  24.74764659\n",
      " 14.11291088  9.73394175 23.39501156 11.06040488  6.76396385 19.92365935\n",
      " 12.54264441]\n",
      "Percentage of reduction in switching across all inception modules 12.980042287012115\n"
     ]
    }
   ],
   "source": [
    "print('Switching before sorting', sw_wt) \n",
    "print('Switching after sorting', sw_wt_sorted)\n",
    "print('Percentage of reduction in switching in each fire modules', (sw_wt[:-1]-sw_wt_sorted[:-1])*100/sw_wt[:-1])\n",
    "print('Percentage of reduction in switching across all inception modules', (np.sum(sw_wt[:-1], 0)-np.sum(sw_wt_sorted[:-1], 0))*100/np.sum(sw_wt[:-1], 0))"
   ]
  },
  {
   "cell_type": "markdown",
   "id": "15f081e1",
   "metadata": {},
   "source": [
    "# Evaluating Model output "
   ]
  },
  {
   "cell_type": "code",
   "execution_count": 11,
   "id": "9cd28efb",
   "metadata": {},
   "outputs": [],
   "source": [
    "# sample execution (requires torchvision)\n",
    "from PIL import Image\n",
    "from torchvision import transforms\n",
    "filename = 'dog.jpg'\n",
    "input_image = Image.open(filename)\n",
    "preprocess = transforms.Compose([\n",
    "    transforms.Resize(256),\n",
    "    transforms.CenterCrop(224),\n",
    "    transforms.ToTensor(),\n",
    "    transforms.Normalize(mean=[0.485, 0.456, 0.406], std=[0.229, 0.224, 0.225]),\n",
    "])\n",
    "input_tensor = preprocess(input_image)\n",
    "input_batch = input_tensor.unsqueeze(0) # create a mini-batch as expected by the model\n",
    "\n",
    "# move the input and model to GPU for speed if available\n",
    "if torch.cuda.is_available():\n",
    "    input_batch = input_batch.to('cuda')\n",
    "    model.to('cuda')\n",
    "\n",
    "with torch.no_grad():\n",
    "    output = model(input_batch)\n",
    "# Tensor of shape 1000, with confidence scores over ImageNet's 1000 classes\n",
    "\n",
    "# The output has unnormalized scores. To get probabilities, you can run a softmax on it.\n",
    "probabilities = torch.nn.functional.softmax(output[0], dim=0)\n"
   ]
  },
  {
   "cell_type": "code",
   "execution_count": 12,
   "id": "500651ac",
   "metadata": {},
   "outputs": [
    {
     "name": "stdout",
     "output_type": "stream",
     "text": [
      "Samoyed 0.9052743315696716\n",
      "Arctic fox 0.016146525740623474\n",
      "papillon 0.011715623550117016\n",
      "West Highland white terrier 0.00972994789481163\n",
      "Eskimo dog 0.009105916135013103\n"
     ]
    }
   ],
   "source": [
    "# Read the categories\n",
    "with open(\"imagenet_classes.txt\", \"r\") as f:\n",
    "    categories = [s.strip() for s in f.readlines()]\n",
    "# Show top categories per image\n",
    "top5_prob, top5_catid = torch.topk(probabilities, 5)\n",
    "for i in range(top5_prob.size(0)):\n",
    "    print(categories[top5_catid[i]], top5_prob[i].item())"
   ]
  },
  {
   "cell_type": "code",
   "execution_count": null,
   "id": "c4496b65",
   "metadata": {},
   "outputs": [],
   "source": []
  },
  {
   "cell_type": "code",
   "execution_count": 13,
   "id": "52fb7333",
   "metadata": {},
   "outputs": [
    {
     "data": {
      "image/png": "[encoded data removed]",
      "text/plain": [
       "<Figure size 640x480 with 1 Axes>"
      ]
     },
     "metadata": {},
     "output_type": "display_data"
    }
   ],
   "source": [
    "import matplotlib.pyplot as plt\n",
    "import numpy as np\n",
    "\n",
    "# Sample data with varying lengths\n",
    "data1 = np.array([1, 2, 3, 4, 5])\n",
    "data2 = np.array([1, 4, 9, 16])\n",
    "data3 = np.array([2, 4, 6, 8, 10, 12, 14])\n",
    "\n",
    "# Find the maximum length among all arrays\n",
    "max_len = max(len(data1), len(data2), len(data3))\n",
    "\n",
    "# Pad the shorter arrays with None values to make them of equal length\n",
    "data1 = np.append(data1, [None] * (max_len - len(data1)))\n",
    "data2 = np.append(data2, [None] * (max_len - len(data2)))\n",
    "data3 = np.append(data3, [None] * (max_len - len(data3)))\n",
    "\n",
    "# Create a list of x values (assumes equally spaced data)\n",
    "x_values = np.arange(max_len)\n",
    "\n",
    "# Plot the data\n",
    "plt.plot(x_values, data1, label='Data 1')\n",
    "plt.plot(x_values, data2, label='Data 2')\n",
    "plt.plot(x_values, data3, label='Data 3')\n",
    "\n",
    "plt.legend()\n",
    "plt.xlabel('X-axis')\n",
    "plt.ylabel('Y-axis')\n",
    "plt.title('Multiple Arrays of Varying Lengths')\n",
    "plt.show()\n"
   ]
  }
 ],
 "metadata": {
  "kernelspec": {
   "display_name": "Python 3 (ipykernel)",
   "language": "python",
   "name": "python3"
  },
  "language_info": {
   "codemirror_mode": {
    "name": "ipython",
    "version": 3
   },
   "file_extension": ".py",
   "mimetype": "text/x-python",
   "name": "python",
   "nbconvert_exporter": "python",
   "pygments_lexer": "ipython3",
   "version": "3.10.4"
  }
 },
 "nbformat": 4,
 "nbformat_minor": 5
}
