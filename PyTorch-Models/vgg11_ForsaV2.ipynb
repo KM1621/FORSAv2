{
 "cells": [
  {
   "cell_type": "code",
   "execution_count": 1,
   "id": "88f9ac6f",
   "metadata": {
    "scrolled": true
   },
   "outputs": [],
   "source": [
    "import torch\n",
    "import torch.nn as nn\n",
    "import numpy as np\n",
    "from utilis_ForsaV2 import *\n",
    "import utilis_ForsaV2\n",
    "# !pip install fxpmath\\\n",
    "from fxpmath import Fxp\n",
    "import time\n",
    "word_size  = 8\n",
    "frac_size = 6\n",
    "utilis_ForsaV2.word_size = word_size\n",
    "utilis_ForsaV2.frac_size = frac_size\n",
    "# from tensorboardX import SummaryWriter\n",
    "# from transforms import *\n",
    "# from models_cust import *\n"
   ]
  },
  {
   "cell_type": "code",
   "execution_count": 2,
   "id": "83fad44a",
   "metadata": {
    "scrolled": true
   },
   "outputs": [
    {
     "name": "stderr",
     "output_type": "stream",
     "text": [
      "Using cache found in C:\\Users\\huruy/.cache\\torch\\hub\\pytorch_vision_v0.10.0\n"
     ]
    },
    {
     "data": {
      "text/plain": [
       "VGG(\n",
       "  (features): Sequential(\n",
       "    (0): Conv2d(3, 64, kernel_size=(3, 3), stride=(1, 1), padding=(1, 1))\n",
       "    (1): ReLU(inplace=True)\n",
       "    (2): MaxPool2d(kernel_size=2, stride=2, padding=0, dilation=1, ceil_mode=False)\n",
       "    (3): Conv2d(64, 128, kernel_size=(3, 3), stride=(1, 1), padding=(1, 1))\n",
       "    (4): ReLU(inplace=True)\n",
       "    (5): MaxPool2d(kernel_size=2, stride=2, padding=0, dilation=1, ceil_mode=False)\n",
       "    (6): Conv2d(128, 256, kernel_size=(3, 3), stride=(1, 1), padding=(1, 1))\n",
       "    (7): ReLU(inplace=True)\n",
       "    (8): Conv2d(256, 256, kernel_size=(3, 3), stride=(1, 1), padding=(1, 1))\n",
       "    (9): ReLU(inplace=True)\n",
       "    (10): MaxPool2d(kernel_size=2, stride=2, padding=0, dilation=1, ceil_mode=False)\n",
       "    (11): Conv2d(256, 512, kernel_size=(3, 3), stride=(1, 1), padding=(1, 1))\n",
       "    (12): ReLU(inplace=True)\n",
       "    (13): Conv2d(512, 512, kernel_size=(3, 3), stride=(1, 1), padding=(1, 1))\n",
       "    (14): ReLU(inplace=True)\n",
       "    (15): MaxPool2d(kernel_size=2, stride=2, padding=0, dilation=1, ceil_mode=False)\n",
       "    (16): Conv2d(512, 512, kernel_size=(3, 3), stride=(1, 1), padding=(1, 1))\n",
       "    (17): ReLU(inplace=True)\n",
       "    (18): Conv2d(512, 512, kernel_size=(3, 3), stride=(1, 1), padding=(1, 1))\n",
       "    (19): ReLU(inplace=True)\n",
       "    (20): MaxPool2d(kernel_size=2, stride=2, padding=0, dilation=1, ceil_mode=False)\n",
       "  )\n",
       "  (avgpool): AdaptiveAvgPool2d(output_size=(7, 7))\n",
       "  (classifier): Sequential(\n",
       "    (0): Linear(in_features=25088, out_features=4096, bias=True)\n",
       "    (1): ReLU(inplace=True)\n",
       "    (2): Dropout(p=0.5, inplace=False)\n",
       "    (3): Linear(in_features=4096, out_features=4096, bias=True)\n",
       "    (4): ReLU(inplace=True)\n",
       "    (5): Dropout(p=0.5, inplace=False)\n",
       "    (6): Linear(in_features=4096, out_features=1000, bias=True)\n",
       "  )\n",
       ")"
      ]
     },
     "execution_count": 2,
     "metadata": {},
     "output_type": "execute_result"
    }
   ],
   "source": [
    "model = torch.hub.load('pytorch/vision:v0.10.0', 'vgg11', pretrained=True)\n",
    "model.eval()"
   ]
  },
  {
   "cell_type": "code",
   "execution_count": 2,
   "id": "01a90752",
   "metadata": {},
   "outputs": [],
   "source": [
    "# # Uncomment to visualize it in netron locally\n",
    "# # # Assuming `model` is your PyTorch model\n",
    "# model_path = './PretrainedModels/vgg11PretrainedIM1K.pth'\n",
    "\n",
    "# # # Save the entire model, including its architecture and trained parameters\n",
    "# # # torch.save(model, model_path)\n",
    "# torch.jit.script(model).save(model_path)"
   ]
  },
  {
   "cell_type": "code",
   "execution_count": 2,
   "id": "b7bd9f74",
   "metadata": {},
   "outputs": [
    {
     "name": "stdout",
     "output_type": "stream",
     "text": [
      "3504872\n"
     ]
    }
   ],
   "source": [
    "# def count_parameters(model):\n",
    "#     return sum(p.numel() for p in model.parameters() if p.requires_grad)\n",
    "# print(count_parameters(model))"
   ]
  },
  {
   "cell_type": "code",
   "execution_count": 65,
   "id": "6c65b8f1",
   "metadata": {},
   "outputs": [
    {
     "name": "stdout",
     "output_type": "stream",
     "text": [
      "----------------------------------------------------------------\n",
      "        Layer (type)               Output Shape         Param #\n",
      "================================================================\n",
      "            Conv2d-1         [-1, 64, 224, 224]           1,792\n",
      "              ReLU-2         [-1, 64, 224, 224]               0\n",
      "         MaxPool2d-3         [-1, 64, 112, 112]               0\n",
      "            Conv2d-4        [-1, 128, 112, 112]          73,856\n",
      "              ReLU-5        [-1, 128, 112, 112]               0\n",
      "         MaxPool2d-6          [-1, 128, 56, 56]               0\n",
      "            Conv2d-7          [-1, 256, 56, 56]         295,168\n",
      "              ReLU-8          [-1, 256, 56, 56]               0\n",
      "            Conv2d-9          [-1, 256, 56, 56]         590,080\n",
      "             ReLU-10          [-1, 256, 56, 56]               0\n",
      "        MaxPool2d-11          [-1, 256, 28, 28]               0\n",
      "           Conv2d-12          [-1, 512, 28, 28]       1,180,160\n",
      "             ReLU-13          [-1, 512, 28, 28]               0\n",
      "           Conv2d-14          [-1, 512, 28, 28]       2,359,808\n",
      "             ReLU-15          [-1, 512, 28, 28]               0\n",
      "        MaxPool2d-16          [-1, 512, 14, 14]               0\n",
      "           Conv2d-17          [-1, 512, 14, 14]       2,359,808\n",
      "             ReLU-18          [-1, 512, 14, 14]               0\n",
      "           Conv2d-19          [-1, 512, 14, 14]       2,359,808\n",
      "             ReLU-20          [-1, 512, 14, 14]               0\n",
      "        MaxPool2d-21            [-1, 512, 7, 7]               0\n",
      "AdaptiveAvgPool2d-22            [-1, 512, 7, 7]               0\n",
      "           Linear-23                 [-1, 4096]     102,764,544\n",
      "             ReLU-24                 [-1, 4096]               0\n",
      "          Dropout-25                 [-1, 4096]               0\n",
      "           Linear-26                 [-1, 4096]      16,781,312\n",
      "             ReLU-27                 [-1, 4096]               0\n",
      "          Dropout-28                 [-1, 4096]               0\n",
      "           Linear-29                 [-1, 1000]       4,097,000\n",
      "================================================================\n",
      "Total params: 132,863,336\n",
      "Trainable params: 132,863,336\n",
      "Non-trainable params: 0\n",
      "----------------------------------------------------------------\n",
      "Input size (MB): 0.57\n",
      "Forward/backward pass size (MB): 125.37\n",
      "Params size (MB): 506.83\n",
      "Estimated Total Size (MB): 632.78\n",
      "----------------------------------------------------------------\n"
     ]
    }
   ],
   "source": [
    "from torchsummary import summary\n",
    "summary(model.to('cuda'), (3, 224, 224)) "
   ]
  },
  {
   "cell_type": "markdown",
   "id": "5422a3f8",
   "metadata": {},
   "source": [
    "# Demonstrating sorting for VGG11\n",
    "a) Regular convolution "
   ]
  },
  {
   "cell_type": "code",
   "execution_count": 3,
   "id": "e470e9af",
   "metadata": {
    "scrolled": true
   },
   "outputs": [
    {
     "name": "stdout",
     "output_type": "stream",
     "text": [
      "Switching before sorting 6897.0\n",
      "Switching after sorting 5473.0\n",
      "Percentage of reduction 20.64665796723213 %\n",
      "Switching before sorting 253.0\n",
      "Switching after sorting 238.0\n",
      "Percentage of reduction 5.928853754940712 %\n",
      "Switching before sorting 271591.0\n",
      "Switching after sorting 234192.0\n",
      "Percentage of reduction 13.770338486915987 %\n",
      "Switching before sorting 505.0\n",
      "Switching after sorting 505.0\n",
      "Percentage of reduction 0.0 %\n",
      "Switching before sorting 1021077.0\n",
      "Switching after sorting 904084.0\n",
      "Percentage of reduction 11.45780386787676 %\n",
      "Switching before sorting 902.0\n",
      "Switching after sorting 816.0\n",
      "Percentage of reduction 9.534368070953438 %\n",
      "Switching before sorting 2014210.0\n",
      "Switching after sorting 1822261.0\n",
      "Percentage of reduction 9.529741188853198 %\n",
      "Switching before sorting 1041.0\n",
      "Switching after sorting 916.0\n",
      "Percentage of reduction 12.007684918347742 %\n",
      "Switching before sorting 3756702.0\n",
      "Switching after sorting 3402506.0\n",
      "Percentage of reduction 9.42837627259229 %\n",
      "Switching before sorting 1994.0\n",
      "Switching after sorting 1772.0\n",
      "Percentage of reduction 11.133400200601805 %\n"
     ]
    }
   ],
   "source": [
    "No_layers=11-1 # to exlude classifier network\n",
    "sw_wt = np.zeros(No_layers)\n",
    "sw_bias = np.zeros(No_layers)\n",
    "sw_wt_sorted = np.zeros(No_layers)\n",
    "sw_bias_sorted = np.zeros(No_layers)\n",
    "########## sorting features.0 ##########\n",
    "_, new_indx1 = sortFullMatrix_V2(model.features[0].weight)\n",
    "model.features[0].weight.data, _, sw_wt[0], sw_wt_sorted[0]  = compare_sw_sort(model.features[0].weight.data, new_indx1, -3)\n",
    "model.features[0].bias.data, _, sw_bias[0], sw_bias_sorted[0]  = compare_sw_sort(model.features[0].bias.data, new_indx1, -1)\n",
    "# plot_dist(model.features[0][0].weight)\n",
    "########## rearranging features.3 ##########\n",
    "model.features[3].weight.data = model.features[3].weight[:, new_indx1, :, :]\n",
    "\n",
    "# ########## sorting features.3 ##########\n",
    "_, new_indx1 = sortFullMatrix_V2(model.features[3].weight)\n",
    "model.features[3].weight.data, _, sw_wt[1], sw_wt_sorted[1]  = compare_sw_sort(model.features[3].weight.data, new_indx1, -3)\n",
    "model.features[3].bias.data, _, sw_bias[1], sw_bias_sorted[1]  = compare_sw_sort(model.features[3].bias.data, new_indx1, -1)\n",
    "# plot_dist(model.features[0][0].weight)\n",
    "########## rearranging features.3 ##########\n",
    "model.features[6].weight.data = model.features[6].weight[:, new_indx1, :, :]\n",
    "\n",
    "# ########## sorting features.6 ##########\n",
    "_, new_indx1 = sortFullMatrix_V2(model.features[6].weight)\n",
    "model.features[6].weight.data, _, sw_wt[2], sw_wt_sorted[2]  = compare_sw_sort(model.features[6].weight.data, new_indx1, -3)\n",
    "model.features[6].bias.data, _, sw_bias[2], sw_bias_sorted[2]  = compare_sw_sort(model.features[6].bias.data, new_indx1, -1)\n",
    "# plot_dist(model.features[0][0].weight)\n",
    "########## rearranging features.3 ##########\n",
    "model.features[8].weight.data = model.features[8].weight[:, new_indx1, :, :]\n",
    "\n",
    "# ########## sorting features.8 ##########\n",
    "_, new_indx1 = sortFullMatrix_V2(model.features[8].weight)\n",
    "model.features[8].weight.data, _, sw_wt[3], sw_wt_sorted[3]  = compare_sw_sort(model.features[8].weight.data, new_indx1, -3)\n",
    "model.features[8].bias.data, _, sw_bias[3], sw_bias_sorted[3]  = compare_sw_sort(model.features[8].bias.data, new_indx1, -1)\n",
    "# plot_dist(model.features[0][0].weight)\n",
    "########## rearranging features.3 ##########\n",
    "model.features[11].weight.data = model.features[11].weight[:, new_indx1, :, :]\n",
    "\n",
    "# ########## sorting features.11 ##########\n",
    "_, new_indx1 = sortFullMatrix_V2(model.features[11].weight)\n",
    "model.features[11].weight.data, _, sw_wt[4], sw_wt_sorted[4]  = compare_sw_sort(model.features[11].weight.data, new_indx1, -3)\n",
    "model.features[11].bias.data, _, sw_bias[4], sw_bias_sorted[4]  = compare_sw_sort(model.features[11].bias.data, new_indx1, -1)\n",
    "# plot_dist(model.features[0][0].weight)\n",
    "########## rearranging features.3 ##########\n",
    "model.features[13].weight.data = model.features[13].weight[:, new_indx1, :, :]\n"
   ]
  },
  {
   "cell_type": "code",
   "execution_count": 4,
   "id": "abaccd3f",
   "metadata": {},
   "outputs": [
    {
     "name": "stdout",
     "output_type": "stream",
     "text": [
      "Switching before sorting 6762321.0\n",
      "Switching after sorting 6276516.0\n",
      "Percentage of reduction 7.1839979202406985 %\n",
      "Switching before sorting 1817.0\n",
      "Switching after sorting 1712.0\n",
      "Percentage of reduction 5.778756191524491 %\n"
     ]
    }
   ],
   "source": [
    "# ########## sorting features.13 ##########\n",
    "_, new_indx1 = sortFullMatrix_V2(model.features[13].weight)\n",
    "model.features[13].weight.data, _, sw_wt[5], sw_wt_sorted[5]  = compare_sw_sort(model.features[13].weight.data, new_indx1, -3)\n",
    "model.features[13].bias.data, _, sw_bias[5], sw_bias_sorted[5]  = compare_sw_sort(model.features[13].bias.data, new_indx1, -1)\n",
    "# plot_dist(model.features[0][0].weight)\n",
    "########## rearranging features.3 ##########\n",
    "model.features[16].weight.data = model.features[16].weight[:, new_indx1, :, :]\n"
   ]
  },
  {
   "cell_type": "code",
   "execution_count": 5,
   "id": "6b80f1e6",
   "metadata": {},
   "outputs": [
    {
     "name": "stdout",
     "output_type": "stream",
     "text": [
      "Switching before sorting 6870480.0\n",
      "Switching after sorting 6422010.0\n",
      "Percentage of reduction 6.5274915289761415 %\n",
      "Switching before sorting 2070.0\n",
      "Switching after sorting 1733.0\n",
      "Percentage of reduction 16.280193236714975 %\n"
     ]
    }
   ],
   "source": [
    "# ########## sorting features.16 ##########\n",
    "_, new_indx1 = sortFullMatrix_V2(model.features[16].weight)\n",
    "model.features[16].weight.data, _, sw_wt[6], sw_wt_sorted[6]  = compare_sw_sort(model.features[16].weight.data, new_indx1, -3)\n",
    "model.features[16].bias.data, _, sw_bias[6], sw_bias_sorted[6]  = compare_sw_sort(model.features[16].bias.data, new_indx1, -1)\n",
    "# plot_dist(model.features[0][0].weight)\n",
    "########## rearranging features.3 ##########\n",
    "model.features[18].weight.data = model.features[18].weight[:, new_indx1, :, :]\n"
   ]
  },
  {
   "cell_type": "code",
   "execution_count": 6,
   "id": "58f5ae55",
   "metadata": {
    "scrolled": false
   },
   "outputs": [
    {
     "name": "stdout",
     "output_type": "stream",
     "text": [
      "Switching before sorting 6672685.0\n",
      "Switching after sorting 6177848.0\n",
      "Percentage of reduction 7.41586033208521 %\n",
      "Switching before sorting 1670.0\n",
      "Switching after sorting 1610.0\n",
      "Percentage of reduction 3.592814371257485 %\n"
     ]
    }
   ],
   "source": [
    "# ########## sorting features.18 ##########\n",
    "_, new_indx1 = sortFullMatrix_V2(model.features[18].weight)\n",
    "model.features[18].weight.data, _, sw_wt[7], sw_wt_sorted[7]  = compare_sw_sort(model.features[18].weight.data, new_indx1, -3)\n",
    "model.features[18].bias.data, _, sw_bias[7], sw_bias_sorted[7]  = compare_sw_sort(model.features[18].bias.data, new_indx1, -1)\n",
    "# plot_dist(model.features[0][0].weight)\n",
    "########## rearranging classifier.0 ##########\n",
    "# Reshaping first classifier weight to rearrange prior to its sort\n",
    "fc1_weight = model.classifier[0].weight\n",
    "fc1_weight = fc1_weight.view(4096, 512, 7, 7)\n",
    "new_fc1_weight = fc1_weight[:, new_indx1, :, :]\n",
    "model.classifier[0].weight.data = new_fc1_weight.view(new_fc1_weight.shape[0], -1) "
   ]
  },
  {
   "cell_type": "code",
   "execution_count": 9,
   "id": "a121c07f",
   "metadata": {},
   "outputs": [
    {
     "name": "stdout",
     "output_type": "stream",
     "text": [
      "Switching before sorting 7511627.0\n",
      "Switching after sorting 7044806.0\n",
      "Percentage of reduction 6.214645642016038 %\n",
      "Switching before sorting 9357.0\n",
      "Switching after sorting 8630.0\n",
      "Percentage of reduction 7.769584268462114 %\n"
     ]
    }
   ],
   "source": [
    "# ########## sorting classifier.0 ##########\n",
    "_, new_indx1 = sortFullMatrix_V2(model.classifier[0].weight)\n",
    "model.classifier[0].weight.data, _, sw_wt[8], sw_wt_sorted[8]  = compare_sw_sort(model.classifier[0].weight.data, new_indx1, -1, isconv=False)\n",
    "model.classifier[0].bias.data, _, sw_bias[8], sw_bias_sorted[8]  = compare_sw_sort(model.classifier[0].bias.data, new_indx1, -1, isconv=False)\n",
    "########## rearranging classifier.3 ##########\n",
    "model.classifier[3].weight.data = model.classifier[3].weight[:, new_indx1]\n"
   ]
  },
  {
   "cell_type": "code",
   "execution_count": 18,
   "id": "6a6e7df2",
   "metadata": {},
   "outputs": [
    {
     "name": "stdout",
     "output_type": "stream",
     "text": [
      "switching activity of weight before sorting:  [6.897000e+03 2.715910e+05 1.021077e+06 2.014210e+06 3.756702e+06\n",
      " 6.762321e+06 6.870480e+06 6.672685e+06 7.511627e+06 0.000000e+00]\n",
      "switching activity of weight before sorting:  [5.473000e+03 2.341920e+05 9.040840e+05 1.822261e+06 3.402506e+06\n",
      " 6.276516e+06 6.422010e+06 6.177848e+06 7.044806e+06 0.000000e+00]\n",
      "Percentage of switching activity of weight changes:  [20.64665797 13.77033849 11.45780387  9.52974119  9.42837627  7.18399792\n",
      "  6.52749153  7.41586033  6.21464564]\n",
      "switching activity of bias after sorting:  [ 253.  505.  902. 1041. 1994. 1817. 2070. 1670. 9357.    0.]\n",
      "switching activity of bias after sorting:  [ 238.  505.  816.  916. 1772. 1712. 1733. 1610. 8630.    0.]\n",
      "Percentage of switching activity of biases changes:  [ 5.92885375  0.          9.53436807 12.00768492 11.1334002   5.77875619\n",
      " 16.28019324  3.59281437  7.76958427]\n"
     ]
    }
   ],
   "source": [
    "print('switching activity of weight before sorting: ', sw_wt)\n",
    "print('switching activity of weight before sorting: ', sw_wt_sorted)\n",
    "print('Percentage of switching activity of weight changes: ', (sw_wt[:-1] - sw_wt_sorted[:-1])*100/sw_wt[:-1])\n",
    "print('switching activity of bias after sorting: ', sw_bias)\n",
    "print('switching activity of bias after sorting: ', sw_bias_sorted)\n",
    "print('Percentage of switching activity of biases changes: ', (sw_bias[:-1] - sw_bias_sorted[:-1])*100/sw_bias[:-1])\n"
   ]
  },
  {
   "cell_type": "markdown",
   "id": "c843d62e",
   "metadata": {},
   "source": [
    "This ..."
   ]
  },
  {
   "cell_type": "markdown",
   "id": "ba7ca91d",
   "metadata": {},
   "source": [
    "# \n",
    "b) Linear"
   ]
  },
  {
   "cell_type": "code",
   "execution_count": null,
   "id": "282fab49",
   "metadata": {},
   "outputs": [],
   "source": []
  },
  {
   "cell_type": "markdown",
   "id": "b8a2c997",
   "metadata": {},
   "source": [
    "The above ..."
   ]
  },
  {
   "cell_type": "code",
   "execution_count": 10,
   "id": "72b6f4be",
   "metadata": {},
   "outputs": [],
   "source": [
    "# sample execution (requires torchvision)\n",
    "from PIL import Image\n",
    "from torchvision import transforms\n",
    "filename = 'dog.jpg'\n",
    "input_image = Image.open(filename)\n",
    "preprocess = transforms.Compose([\n",
    "    transforms.Resize(256),\n",
    "    transforms.CenterCrop(224),\n",
    "    transforms.ToTensor(),\n",
    "    transforms.Normalize(mean=[0.485, 0.456, 0.406], std=[0.229, 0.224, 0.225]),\n",
    "])\n",
    "input_tensor = preprocess(input_image)\n",
    "input_batch = input_tensor.unsqueeze(0) # create a mini-batch as expected by the model\n",
    "\n",
    "# move the input and model to GPU for speed if available\n",
    "if torch.cuda.is_available():\n",
    "    input_batch = input_batch.to('cuda')\n",
    "    model.to('cuda')\n",
    "\n",
    "with torch.no_grad():\n",
    "    output = model(input_batch)\n",
    "# Tensor of shape 1000, with confidence scores over ImageNet's 1000 classes\n",
    "\n",
    "# The output has unnormalized scores. To get probabilities, you can run a softmax on it.\n",
    "probabilities = torch.nn.functional.softmax(output[0], dim=0)\n"
   ]
  },
  {
   "cell_type": "code",
   "execution_count": 11,
   "id": "e7e8f3cc",
   "metadata": {
    "scrolled": true
   },
   "outputs": [
    {
     "name": "stdout",
     "output_type": "stream",
     "text": [
      "Samoyed 0.6673733592033386\n",
      "Pomeranian 0.16195271909236908\n",
      "Eskimo dog 0.01775933988392353\n",
      "collie 0.017686188220977783\n",
      "keeshond 0.017065558582544327\n"
     ]
    }
   ],
   "source": [
    "# Read the categories\n",
    "with open(\"imagenet_classes.txt\", \"r\") as f:\n",
    "    categories = [s.strip() for s in f.readlines()]\n",
    "# Show top categories per image\n",
    "top5_prob, top5_catid = torch.topk(probabilities, 5)\n",
    "for i in range(top5_prob.size(0)):\n",
    "    print(categories[top5_catid[i]], top5_prob[i].item())"
   ]
  },
  {
   "cell_type": "code",
   "execution_count": 14,
   "id": "70dc482d",
   "metadata": {},
   "outputs": [],
   "source": [
    "import numpy as np\n",
    "from scipy.spatial.distance import hamming\n",
    "\n",
    "# Create a sample matrix (replace this with your data)\n",
    "matrix_original = np.array([[1, 2, 3], [4, 5, 6], [7, 8, 9]])\n",
    "\n",
    "# Calculate pairwise cosine similarities between rows\n",
    "def sort_rows(matrix):\n",
    "    \n",
    "    similarities = []\n",
    "    for i in range(len(matrix)):\n",
    "        similarity_row = []\n",
    "        for j in range(len(matrix)):\n",
    "            similarity = 1 - hamming(matrix[i], matrix[j])\n",
    "            similarity_row.append(similarity)\n",
    "        similarities.append(similarity_row)\n",
    "\n",
    "    # Sort rows based on their similarity to the first row (you can choose a different reference row)\n",
    "    sorted_indices = np.argsort(similarities[0])[::-1]\n",
    "    sorted_matrix = matrix[sorted_indices]\n",
    "\n",
    "    return sorted_matrix, sorted_indices\n",
    "# matrix_sorted = sort_rows(matrix_original)"
   ]
  },
  {
   "cell_type": "code",
   "execution_count": 21,
   "id": "5605f524",
   "metadata": {
    "collapsed": true
   },
   "outputs": [
    {
     "data": {
      "image/png": "[encoded data removed]",
      "text/plain": [
       "<Figure size 640x480 with 2 Axes>"
      ]
     },
     "metadata": {},
     "output_type": "display_data"
    },
    {
     "data": {
      "image/png": "[encoded data removed]",
      "text/plain": [
       "<Figure size 640x480 with 2 Axes>"
      ]
     },
     "metadata": {},
     "output_type": "display_data"
    },
    {
     "name": "stdout",
     "output_type": "stream",
     "text": [
      "Original Matrix:\n",
      "[[87]\n",
      " [86]\n",
      " [23]\n",
      " [47]\n",
      " [98]\n",
      " [97]\n",
      " [80]\n",
      " [37]\n",
      " [59]\n",
      " [99]\n",
      " [13]\n",
      " [13]\n",
      " [73]\n",
      " [71]\n",
      " [20]\n",
      " [ 7]\n",
      " [68]\n",
      " [70]\n",
      " [57]\n",
      " [60]]\n",
      "\n",
      "Sorted Matrix:\n",
      "[[87]\n",
      " [57]\n",
      " [86]\n",
      " [23]\n",
      " [47]\n",
      " [98]\n",
      " [97]\n",
      " [80]\n",
      " [37]\n",
      " [59]\n",
      " [60]\n",
      " [13]\n",
      " [13]\n",
      " [73]\n",
      " [71]\n",
      " [20]\n",
      " [ 7]\n",
      " [68]\n",
      " [70]\n",
      " [99]]\n"
     ]
    }
   ],
   "source": [
    "import matplotlib.pyplot as plt\n",
    "import numpy as np\n",
    "\n",
    "# Create a sample 2D matrix (replace this with your data)\n",
    "matrix = np.random.randint(1, 101, size=(20, 1))\n",
    "# matrix = (matrix * (2**frac_size)).astype(int)\n",
    "# Create a heatmap\n",
    "plt.imshow(matrix, cmap='viridis')  # 'viridis' is one of many available colormaps\n",
    "plt.colorbar()  # Add a color scale to the side\n",
    "plt.title('2D Matrix Heatmap')\n",
    "plt.show()\n",
    "matrix_sorted, _  = sort_rows(matrix)\n",
    "# Create a heatmap\n",
    "plt.imshow(matrix_sorted, cmap='viridis')  # 'viridis' is one of many available colormaps\n",
    "plt.colorbar()  # Add a color scale to the side\n",
    "plt.title('2D Matrix Heatmap')\n",
    "plt.show()\n",
    "print(\"Original Matrix:\")\n",
    "print(matrix)\n",
    "\n",
    "print(\"\\nSorted Matrix:\")\n",
    "print(matrix_sorted)\n"
   ]
  }
 ],
 "metadata": {
  "kernelspec": {
   "display_name": "Python 3 (ipykernel)",
   "language": "python",
   "name": "python3"
  },
  "language_info": {
   "codemirror_mode": {
    "name": "ipython",
    "version": 3
   },
   "file_extension": ".py",
   "mimetype": "text/x-python",
   "name": "python",
   "nbconvert_exporter": "python",
   "pygments_lexer": "ipython3",
   "version": "3.10.4"
  }
 },
 "nbformat": 4,
 "nbformat_minor": 5
}
