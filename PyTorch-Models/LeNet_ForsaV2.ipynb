{
 "cells": [
  {
   "cell_type": "code",
   "execution_count": 9,
   "id": "88f9ac6f",
   "metadata": {
    "scrolled": true
   },
   "outputs": [],
   "source": [
    "import torch\n",
    "import torch.nn as nn\n",
    "import numpy as np\n",
    "from utilis_ForsaV2 import *\n",
    "import utilis_ForsaV2\n",
    "# !pip install fxpmath\\\n",
    "from fxpmath import Fxp\n",
    "import time\n",
    "word_size  = 8\n",
    "frac_size = 6\n",
    "utilis_ForsaV2.word_size = word_size\n",
    "utilis_ForsaV2.frac_size = frac_size\n",
    "# from tensorboardX import SummaryWriter\n",
    "# from transforms import *\n",
    "# from models_cust import *\n"
   ]
  },
  {
   "cell_type": "code",
   "execution_count": 10,
   "id": "c7615425",
   "metadata": {},
   "outputs": [
    {
     "data": {
      "text/plain": [
       "RecursiveScriptModule(\n",
       "  original_name=Net\n",
       "  (conv1): RecursiveScriptModule(original_name=Conv2d)\n",
       "  (pool): RecursiveScriptModule(original_name=MaxPool2d)\n",
       "  (conv2): RecursiveScriptModule(original_name=Conv2d)\n",
       "  (fc1): RecursiveScriptModule(original_name=Linear)\n",
       "  (fc2): RecursiveScriptModule(original_name=Linear)\n",
       "  (fc3): RecursiveScriptModule(original_name=Linear)\n",
       ")"
      ]
     },
     "execution_count": 10,
     "metadata": {},
     "output_type": "execute_result"
    }
   ],
   "source": [
    "PATH = './PretrainedModels/LeNetPretrainedCifar10.pth'\n",
    "model = torch.load(PATH)\n",
    "# model = torch.hub.load('pytorch/vision:v0.10.0', 'mobilenet_v2', pretrained=True)\n",
    "model.eval()"
   ]
  },
  {
   "cell_type": "code",
   "execution_count": 11,
   "id": "b7bd9f74",
   "metadata": {},
   "outputs": [
    {
     "name": "stdout",
     "output_type": "stream",
     "text": [
      "159518\n"
     ]
    }
   ],
   "source": [
    "def count_parameters(model):\n",
    "    return sum(p.numel() for p in model.parameters() if p.requires_grad)\n",
    "print(count_parameters(model))"
   ]
  },
  {
   "cell_type": "markdown",
   "id": "5422a3f8",
   "metadata": {},
   "source": [
    "# Demonstrating sorting for LeNet\n",
    "a) Regular convolution: "
   ]
  },
  {
   "cell_type": "code",
   "execution_count": 12,
   "id": "67371f2f",
   "metadata": {},
   "outputs": [
    {
     "name": "stdout",
     "output_type": "stream",
     "text": [
      "Switching before sorting 3263.0\n",
      "Switching after sorting 2706.0\n",
      "Percentage of switching reduction 17.070180815200736 %\n",
      "Switching before sorting 35629.0\n",
      "Switching after sorting 31920.0\n",
      "Percentage of switching reduction 10.410059221420752 %\n"
     ]
    }
   ],
   "source": [
    "No_layers=4\n",
    "sw_wt = np.zeros(No_layers)\n",
    "sw_bias = np.zeros(No_layers)\n",
    "sw_wt_sorted = np.zeros(No_layers)\n",
    "sw_bias_sorted = np.zeros(No_layers)\n",
    "########## sorting features.0 ##########\n",
    "_, new_indx1 = sortFullMatrix_V2(model.conv1.weight)\n",
    "model.conv1.weight.data, _, sw_wt[0], sw_wt_sorted[0]  = compare_sw_sort(model.conv1.weight.data, new_indx1, -3, printsumm=True)\n",
    "model.conv1.bias.data, _, sw_bias[0], sw_bias_sorted[0]  = compare_sw_sort(model.conv1.bias.data, new_indx1, -1)\n",
    "# plot_dist(model.features[0][0].weight)\n",
    "########## rearranging features.3 ##########\n",
    "model.conv2.weight.data = model.conv2.weight[:, new_indx1, :, :]\n",
    "\n",
    "# ########## sorting features.3 ##########\n",
    "_, new_indx1 = sortFullMatrix_V2(model.conv2.weight)\n",
    "model.conv2.weight.data, _, sw_wt[1], sw_wt_sorted[1]  = compare_sw_sort(model.conv2.weight.data, new_indx1, -3, printsumm=True)\n",
    "model.conv2.bias.data, _, sw_bias[1], sw_bias_sorted[1]  = compare_sw_sort(model.conv2.bias.data, new_indx1, -1)\n"
   ]
  },
  {
   "cell_type": "code",
   "execution_count": 13,
   "id": "3ce73d95",
   "metadata": {},
   "outputs": [],
   "source": [
    "########## rearranging classifier.1 ##########\n",
    "# Reshaping first classifier weight to rearrange prior to its sort\n",
    "fc1_weight = model.fc1.weight\n",
    "fc1_weight = fc1_weight.view(120, 32, 6, 6)\n",
    "new_fc1_weight = fc1_weight[:, new_indx1, :, :]\n",
    "model.fc1.weight.data = new_fc1_weight.view(new_fc1_weight.shape[0], -1) "
   ]
  },
  {
   "cell_type": "code",
   "execution_count": 14,
   "id": "4032190c",
   "metadata": {},
   "outputs": [
    {
     "name": "stdout",
     "output_type": "stream",
     "text": [
      "Switching before sorting 469794.0\n",
      "Switching after sorting 416965.0\n",
      "Percentage of switching reduction 11.245141487545606 %\n"
     ]
    }
   ],
   "source": [
    "# ########## sorting classifier.1 ##########\n",
    "_, new_indx1 = sortFullMatrix_V2(model.fc1.weight)\n",
    "model.fc1.weight.data, _, sw_wt[2], sw_wt_sorted[2]  = compare_sw_sort(model.fc1.weight.data, new_indx1, -1, isconv=False, printsumm=True)\n",
    "model.fc1.bias.data, _, sw_bias[2], sw_bias_sorted[2]  = compare_sw_sort(model.fc1.bias.data, new_indx1, -1, isconv=False)\n",
    "########## rearranging classifier.4 ##########\n",
    "model.fc2.weight.data = model.fc2.weight[:, new_indx1]\n"
   ]
  },
  {
   "cell_type": "code",
   "execution_count": 15,
   "id": "514dc720",
   "metadata": {},
   "outputs": [],
   "source": [
    "# Choose either to sort along 84 in fc3 or fc2. It could be beneficial to sort fc3 along 83 and rearrange fc2 based on the indices obtained\n",
    "# ########## sorting classifier.1 ##########\n",
    "_, new_indx1 = sortFullMatrix_V2(model.fc2.weight)\n",
    "model.fc2.weight.data, _, sw_wt[3], sw_wt_sorted[3]  = compare_sw_sort(model.fc2.weight.data, new_indx1, -1, isconv=False)\n",
    "model.fc2.bias.data, _, sw_bias[3], sw_bias_sorted[3]  = compare_sw_sort(model.fc2.bias.data, new_indx1, -1, isconv=False)\n",
    "########## rearranging classifier.4 ##########\n",
    "model.fc3.weight.data = model.fc3.weight[:, new_indx1]\n"
   ]
  },
  {
   "cell_type": "code",
   "execution_count": 17,
   "id": "a626fb5d",
   "metadata": {},
   "outputs": [
    {
     "name": "stdout",
     "output_type": "stream",
     "text": [
      "Switching before sorting 37067.0\n",
      "Switching after sorting 32766.0\n",
      "Percentage of switching reduction 11.603312919847843 %\n",
      "307.0 first 196.0\n",
      "302.0 Second 198.0\n",
      "296.0 Third 188.0\n"
     ]
    }
   ],
   "source": [
    "# If the whole flattened weight matrix is sorted along its filter dimension, no indexing is required. \n",
    "# If slices of the matrix is sorted indexing is needed to keep track the channels of the filter\n",
    "# Here the slices of the flattened filter are sorted independently to demonstrate the tradeoff \n",
    "# between switching activity reduction and the indexing overhead\n",
    "############### Run cell after cell [43]\n",
    "# To sort fc3 before fc2, we need to transpose 10x84 to 84x10 and sort the matrix\n",
    "fc3_trans = torch.transpose(model.fc2.weight.data, 0, 1)\n",
    "_, new_indxfc3 = sortFullMatrix_V2(fc3_trans)\n",
    "fc3_untrans, _, sw_wt[3], sw_wt_sorted[3]  = compare_sw_sort(torch.transpose(model.fc2.weight.data, 0, 1), new_indxfc3, -1, isconv=False, printsumm=True)\n",
    "model.fc3.weight.data = torch.transpose(fc3_untrans, 0, 1)\n",
    "###################################### How about slicing\n",
    "_, new_indx1 = sortFullMatrix_V2(model.conv1.weight.data[:, :,0, 0])\n",
    "slice1, _, sw_wt_1, sw_wt_sorted_1  = compare_sw_sort(model.conv1.weight.data[:, :, 0, 0], new_indx1, -1)\n",
    "_, new_indx1 = sortFullMatrix_V2(model.conv1.weight.data[:, 0, :, 0])\n",
    "slice2, _, sw_wt_2, sw_wt_sorted_2  = compare_sw_sort(model.conv1.weight.data[:, 0, :, 0], new_indx1, -1)\n",
    "_, new_indx1 = sortFullMatrix_V2(model.conv1.weight.data[:, 0, 0, :])\n",
    "slice3, _, sw_wt_3, sw_wt_sorted_3  = compare_sw_sort(model.conv1.weight.data[:, 0, 0, :], new_indx1, -1)\n",
    "print(sw_wt_1, 'first', sw_wt_sorted_1)\n",
    "print(sw_wt_2, 'Second', sw_wt_sorted_2)\n",
    "print(sw_wt_3, 'Third', sw_wt_sorted_3)\n"
   ]
  },
  {
   "cell_type": "code",
   "execution_count": null,
   "id": "5ed2d377",
   "metadata": {},
   "outputs": [],
   "source": []
  }
 ],
 "metadata": {
  "kernelspec": {
   "display_name": "Python 3 (ipykernel)",
   "language": "python",
   "name": "python3"
  },
  "language_info": {
   "codemirror_mode": {
    "name": "ipython",
    "version": 3
   },
   "file_extension": ".py",
   "mimetype": "text/x-python",
   "name": "python",
   "nbconvert_exporter": "python",
   "pygments_lexer": "ipython3",
   "version": "3.10.4"
  }
 },
 "nbformat": 4,
 "nbformat_minor": 5
}
